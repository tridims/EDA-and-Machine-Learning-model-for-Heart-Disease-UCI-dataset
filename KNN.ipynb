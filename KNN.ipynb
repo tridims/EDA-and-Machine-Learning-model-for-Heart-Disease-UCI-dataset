{
 "cells": [
  {
   "cell_type": "code",
   "execution_count": 1,
   "metadata": {},
   "outputs": [],
   "source": [
    "# import usual libraries for machine learing and data science\n",
    "import numpy as np\n",
    "import pandas as pd\n",
    "import matplotlib.pyplot as plt\n",
    "import seaborn as sns\n",
    "\n",
    "from sklearn.model_selection import train_test_split\n",
    "from sklearn.neighbors import KNeighborsClassifier\n",
    "from sklearn.metrics import confusion_matrix, accuracy_score, classification_report"
   ]
  },
  {
   "cell_type": "markdown",
   "metadata": {},
   "source": [
    "# Read CSV"
   ]
  },
  {
   "cell_type": "code",
   "execution_count": 2,
   "metadata": {},
   "outputs": [],
   "source": [
    "import os\n",
    "\n",
    "file_list = os.listdir(\"Dataset\")\n",
    "file_list = [file.replace(\".csv\", \"\") for file in file_list]\n",
    "\n",
    "# put file names in file_list that have world splitTrain to file_list_train\n",
    "file_list_train = [file for file in file_list if \"splitTrain\" in file]\n",
    "file_list_test = [file for file in file_list if \"splitTest\" in file]\n",
    "\n",
    "data_train = {}\n",
    "for file in file_list_train:\n",
    "    data_train[file.replace(\"splitTrain_\", \"\").replace(\"splitTrain\", \"\")] = pd.read_csv(\"Dataset/\" + file + \".csv\")\n",
    "\n",
    "data_test = {}\n",
    "for file in file_list_test:\n",
    "    data_test[file.replace(\"splitTest_\", \"\").replace(\"splitTest\", \"\")] = pd.read_csv(\"Dataset/\" + file + \".csv\")\n"
   ]
  },
  {
   "cell_type": "markdown",
   "metadata": {},
   "source": [
    "# KNN sklearn"
   ]
  },
  {
   "cell_type": "code",
   "execution_count": 3,
   "metadata": {},
   "outputs": [],
   "source": [
    "# import f1 score metric from sklearn\n",
    "from sklearn.metrics import f1_score, accuracy_score, confusion_matrix, roc_auc_score, precision_score, recall_score\n",
    "\n",
    "# function to get dictionary of f1 score prediction for each data train and data test using KNeighborsClassifier\n",
    "def get_score(data_train, data_test, model, k):\n",
    "    performanceData = {}\n",
    "    for key in data_train:\n",
    "        try:\n",
    "            X_train = data_train[key].drop([\"HeartDisease\"], axis=1)\n",
    "            y_train = data_train[key][\"HeartDisease\"]\n",
    "            X_test = data_test[key].drop([\"HeartDisease\"], axis=1)\n",
    "            y_test = data_test[key][\"HeartDisease\"]\n",
    "\n",
    "            knn = model(n_neighbors=k)\n",
    "            knn.fit(X_train, y_train)\n",
    "            y_pred = knn.predict(X_test)\n",
    "        except:\n",
    "            continue\n",
    "        \n",
    "        try:\n",
    "          performanceData[key] = {'f1_score' : f1_score(y_test, y_pred)}\n",
    "          performanceData[key]['accuracy'] = accuracy_score(y_test, y_pred)\n",
    "          performanceData[key]['confusion_matrix'] = confusion_matrix(y_test, y_pred)\n",
    "          performanceData[key]['roc_auc_score'] = roc_auc_score(y_test, y_pred)\n",
    "          performanceData[key]['precision_score'] = precision_score(y_test, y_pred)\n",
    "          performanceData[key]['recall_score'] = recall_score(y_test, y_pred)\n",
    "        except:\n",
    "          continue\n",
    "            \n",
    "    return performanceData"
   ]
  },
  {
   "cell_type": "code",
   "execution_count": 4,
   "metadata": {},
   "outputs": [],
   "source": [
    "from sklearn.model_selection import KFold, cross_val_score\n",
    "\n",
    "# function to cross validate the model using KFold\n",
    "def cross_validate(data_train, model, n_neighbors):\n",
    "    performanceData = {}\n",
    "    for key in data_train:\n",
    "      try:\n",
    "        X_train = data_train[key].drop([\"HeartDisease\"], axis=1)\n",
    "        y_train = data_train[key][\"HeartDisease\"]\n",
    "\n",
    "        kf = KFold(n_splits=10, shuffle=True)\n",
    "        scores = cross_val_score(model(n_neighbors=n_neighbors), X_train, y_train, cv=kf, scoring=\"f1_macro\")\n",
    "        performanceData[key] = scores.mean()\n",
    "      except:\n",
    "        continue\n",
    "            \n",
    "    return performanceData"
   ]
  },
  {
   "cell_type": "code",
   "execution_count": 5,
   "metadata": {},
   "outputs": [
    {
     "data": {
      "text/html": [
       "<div>\n",
       "<style scoped>\n",
       "    .dataframe tbody tr th:only-of-type {\n",
       "        vertical-align: middle;\n",
       "    }\n",
       "\n",
       "    .dataframe tbody tr th {\n",
       "        vertical-align: top;\n",
       "    }\n",
       "\n",
       "    .dataframe thead th {\n",
       "        text-align: right;\n",
       "    }\n",
       "</style>\n",
       "<table border=\"1\" class=\"dataframe\">\n",
       "  <thead>\n",
       "    <tr style=\"text-align: right;\">\n",
       "      <th></th>\n",
       "      <th>f1_score</th>\n",
       "      <th>accuracy</th>\n",
       "      <th>confusion_matrix</th>\n",
       "      <th>roc_auc_score</th>\n",
       "      <th>precision_score</th>\n",
       "      <th>recall_score</th>\n",
       "    </tr>\n",
       "  </thead>\n",
       "  <tbody>\n",
       "    <tr>\n",
       "      <th>df_DF_modifiedOutlier_encoded_minmaxScaled</th>\n",
       "      <td>0.862385</td>\n",
       "      <td>0.864253</td>\n",
       "      <td>[[97, 19], [11, 94]]</td>\n",
       "      <td>0.865722</td>\n",
       "      <td>0.831858</td>\n",
       "      <td>0.895238</td>\n",
       "    </tr>\n",
       "    <tr>\n",
       "      <th>df_encoded_minmaxScaled</th>\n",
       "      <td>0.849398</td>\n",
       "      <td>0.818841</td>\n",
       "      <td>[[85, 28], [22, 141]]</td>\n",
       "      <td>0.808622</td>\n",
       "      <td>0.834320</td>\n",
       "      <td>0.865031</td>\n",
       "    </tr>\n",
       "    <tr>\n",
       "      <th>df_DF_encoded_minmaxScaled</th>\n",
       "      <td>0.846626</td>\n",
       "      <td>0.818841</td>\n",
       "      <td>[[88, 25], [25, 138]]</td>\n",
       "      <td>0.812693</td>\n",
       "      <td>0.846626</td>\n",
       "      <td>0.846626</td>\n",
       "    </tr>\n",
       "    <tr>\n",
       "      <th>df_deleteOutlier_encoded_minmaxScaled</th>\n",
       "      <td>0.821256</td>\n",
       "      <td>0.824645</td>\n",
       "      <td>[[89, 21], [16, 85]]</td>\n",
       "      <td>0.825338</td>\n",
       "      <td>0.801887</td>\n",
       "      <td>0.841584</td>\n",
       "    </tr>\n",
       "    <tr>\n",
       "      <th>df_modifiedOutlier_encoded_minmaxScaled</th>\n",
       "      <td>0.812785</td>\n",
       "      <td>0.814480</td>\n",
       "      <td>[[91, 25], [16, 89]]</td>\n",
       "      <td>0.816051</td>\n",
       "      <td>0.780702</td>\n",
       "      <td>0.847619</td>\n",
       "    </tr>\n",
       "    <tr>\n",
       "      <th>df_DF_deleteOutlier_encoded_minmaxScaled</th>\n",
       "      <td>0.810256</td>\n",
       "      <td>0.824645</td>\n",
       "      <td>[[95, 15], [22, 79]]</td>\n",
       "      <td>0.822907</td>\n",
       "      <td>0.840426</td>\n",
       "      <td>0.782178</td>\n",
       "    </tr>\n",
       "    <tr>\n",
       "      <th>df_DF_encoded_</th>\n",
       "      <td>0.707395</td>\n",
       "      <td>0.670290</td>\n",
       "      <td>[[75, 38], [53, 110]]</td>\n",
       "      <td>0.669282</td>\n",
       "      <td>0.743243</td>\n",
       "      <td>0.674847</td>\n",
       "    </tr>\n",
       "    <tr>\n",
       "      <th>df_encoded_</th>\n",
       "      <td>0.703226</td>\n",
       "      <td>0.666667</td>\n",
       "      <td>[[75, 38], [54, 109]]</td>\n",
       "      <td>0.666214</td>\n",
       "      <td>0.741497</td>\n",
       "      <td>0.668712</td>\n",
       "    </tr>\n",
       "    <tr>\n",
       "      <th>df_deleteOutlier_encoded_</th>\n",
       "      <td>0.622222</td>\n",
       "      <td>0.677725</td>\n",
       "      <td>[[87, 23], [45, 56]]</td>\n",
       "      <td>0.672682</td>\n",
       "      <td>0.708861</td>\n",
       "      <td>0.554455</td>\n",
       "    </tr>\n",
       "    <tr>\n",
       "      <th>df_DF_deleteOutlier_encoded_</th>\n",
       "      <td>0.622222</td>\n",
       "      <td>0.677725</td>\n",
       "      <td>[[87, 23], [45, 56]]</td>\n",
       "      <td>0.672682</td>\n",
       "      <td>0.708861</td>\n",
       "      <td>0.554455</td>\n",
       "    </tr>\n",
       "    <tr>\n",
       "      <th>df_modifiedOutlier_encoded_</th>\n",
       "      <td>0.564103</td>\n",
       "      <td>0.615385</td>\n",
       "      <td>[[81, 35], [50, 55]]</td>\n",
       "      <td>0.611043</td>\n",
       "      <td>0.611111</td>\n",
       "      <td>0.523810</td>\n",
       "    </tr>\n",
       "    <tr>\n",
       "      <th>df_DF_modifiedOutlier_encoded_</th>\n",
       "      <td>0.564103</td>\n",
       "      <td>0.615385</td>\n",
       "      <td>[[81, 35], [50, 55]]</td>\n",
       "      <td>0.611043</td>\n",
       "      <td>0.611111</td>\n",
       "      <td>0.523810</td>\n",
       "    </tr>\n",
       "  </tbody>\n",
       "</table>\n",
       "</div>"
      ],
      "text/plain": [
       "                                            f1_score  accuracy  \\\n",
       "df_DF_modifiedOutlier_encoded_minmaxScaled  0.862385  0.864253   \n",
       "df_encoded_minmaxScaled                     0.849398  0.818841   \n",
       "df_DF_encoded_minmaxScaled                  0.846626  0.818841   \n",
       "df_deleteOutlier_encoded_minmaxScaled       0.821256  0.824645   \n",
       "df_modifiedOutlier_encoded_minmaxScaled     0.812785  0.814480   \n",
       "df_DF_deleteOutlier_encoded_minmaxScaled    0.810256  0.824645   \n",
       "df_DF_encoded_                              0.707395  0.670290   \n",
       "df_encoded_                                 0.703226  0.666667   \n",
       "df_deleteOutlier_encoded_                   0.622222  0.677725   \n",
       "df_DF_deleteOutlier_encoded_                0.622222  0.677725   \n",
       "df_modifiedOutlier_encoded_                 0.564103  0.615385   \n",
       "df_DF_modifiedOutlier_encoded_              0.564103  0.615385   \n",
       "\n",
       "                                                 confusion_matrix  \\\n",
       "df_DF_modifiedOutlier_encoded_minmaxScaled   [[97, 19], [11, 94]]   \n",
       "df_encoded_minmaxScaled                     [[85, 28], [22, 141]]   \n",
       "df_DF_encoded_minmaxScaled                  [[88, 25], [25, 138]]   \n",
       "df_deleteOutlier_encoded_minmaxScaled        [[89, 21], [16, 85]]   \n",
       "df_modifiedOutlier_encoded_minmaxScaled      [[91, 25], [16, 89]]   \n",
       "df_DF_deleteOutlier_encoded_minmaxScaled     [[95, 15], [22, 79]]   \n",
       "df_DF_encoded_                              [[75, 38], [53, 110]]   \n",
       "df_encoded_                                 [[75, 38], [54, 109]]   \n",
       "df_deleteOutlier_encoded_                    [[87, 23], [45, 56]]   \n",
       "df_DF_deleteOutlier_encoded_                 [[87, 23], [45, 56]]   \n",
       "df_modifiedOutlier_encoded_                  [[81, 35], [50, 55]]   \n",
       "df_DF_modifiedOutlier_encoded_               [[81, 35], [50, 55]]   \n",
       "\n",
       "                                            roc_auc_score  precision_score  \\\n",
       "df_DF_modifiedOutlier_encoded_minmaxScaled       0.865722         0.831858   \n",
       "df_encoded_minmaxScaled                          0.808622         0.834320   \n",
       "df_DF_encoded_minmaxScaled                       0.812693         0.846626   \n",
       "df_deleteOutlier_encoded_minmaxScaled            0.825338         0.801887   \n",
       "df_modifiedOutlier_encoded_minmaxScaled          0.816051         0.780702   \n",
       "df_DF_deleteOutlier_encoded_minmaxScaled         0.822907         0.840426   \n",
       "df_DF_encoded_                                   0.669282         0.743243   \n",
       "df_encoded_                                      0.666214         0.741497   \n",
       "df_deleteOutlier_encoded_                        0.672682         0.708861   \n",
       "df_DF_deleteOutlier_encoded_                     0.672682         0.708861   \n",
       "df_modifiedOutlier_encoded_                      0.611043         0.611111   \n",
       "df_DF_modifiedOutlier_encoded_                   0.611043         0.611111   \n",
       "\n",
       "                                            recall_score  \n",
       "df_DF_modifiedOutlier_encoded_minmaxScaled      0.895238  \n",
       "df_encoded_minmaxScaled                         0.865031  \n",
       "df_DF_encoded_minmaxScaled                      0.846626  \n",
       "df_deleteOutlier_encoded_minmaxScaled           0.841584  \n",
       "df_modifiedOutlier_encoded_minmaxScaled         0.847619  \n",
       "df_DF_deleteOutlier_encoded_minmaxScaled        0.782178  \n",
       "df_DF_encoded_                                  0.674847  \n",
       "df_encoded_                                     0.668712  \n",
       "df_deleteOutlier_encoded_                       0.554455  \n",
       "df_DF_deleteOutlier_encoded_                    0.554455  \n",
       "df_modifiedOutlier_encoded_                     0.523810  \n",
       "df_DF_modifiedOutlier_encoded_                  0.523810  "
      ]
     },
     "execution_count": 5,
     "metadata": {},
     "output_type": "execute_result"
    }
   ],
   "source": [
    "list_f1_score_knnsklearn = get_score(data_train, data_test, KNeighborsClassifier, k=5)\n",
    "df_list_f1_score_knnsklearn = pd.DataFrame.from_dict(list_f1_score_knnsklearn, orient='index')\n",
    "df_list_f1_score_knnsklearn.sort_values(by=[\"f1_score\", \"accuracy\"], ascending=[False, False], inplace=True)\n",
    "df_list_f1_score_knnsklearn"
   ]
  },
  {
   "cell_type": "code",
   "execution_count": 14,
   "metadata": {},
   "outputs": [
    {
     "data": {
      "text/html": [
       "<div>\n",
       "<style scoped>\n",
       "    .dataframe tbody tr th:only-of-type {\n",
       "        vertical-align: middle;\n",
       "    }\n",
       "\n",
       "    .dataframe tbody tr th {\n",
       "        vertical-align: top;\n",
       "    }\n",
       "\n",
       "    .dataframe thead th {\n",
       "        text-align: right;\n",
       "    }\n",
       "</style>\n",
       "<table border=\"1\" class=\"dataframe\">\n",
       "  <thead>\n",
       "    <tr style=\"text-align: right;\">\n",
       "      <th></th>\n",
       "      <th>f1</th>\n",
       "    </tr>\n",
       "  </thead>\n",
       "  <tbody>\n",
       "    <tr>\n",
       "      <th>df_DF_encoded_stdScaled_rounded</th>\n",
       "      <td>0.858216</td>\n",
       "    </tr>\n",
       "    <tr>\n",
       "      <th>df_DF_encoded_minmaxScaled</th>\n",
       "      <td>0.850914</td>\n",
       "    </tr>\n",
       "    <tr>\n",
       "      <th>df_encoded_minmaxScaled</th>\n",
       "      <td>0.842050</td>\n",
       "    </tr>\n",
       "    <tr>\n",
       "      <th>df_DF_modifiedOutlier_encoded_minmaxScaled</th>\n",
       "      <td>0.820612</td>\n",
       "    </tr>\n",
       "    <tr>\n",
       "      <th>df_modifiedOutlier_encoded_minmaxScaled</th>\n",
       "      <td>0.812837</td>\n",
       "    </tr>\n",
       "    <tr>\n",
       "      <th>df_DF_deleteOutlier_encoded_minmaxScaled</th>\n",
       "      <td>0.806290</td>\n",
       "    </tr>\n",
       "    <tr>\n",
       "      <th>df_deleteOutlier_encoded_minmaxScaled</th>\n",
       "      <td>0.802436</td>\n",
       "    </tr>\n",
       "    <tr>\n",
       "      <th>df_DF_encoded_</th>\n",
       "      <td>0.657067</td>\n",
       "    </tr>\n",
       "    <tr>\n",
       "      <th>df_encoded_</th>\n",
       "      <td>0.646186</td>\n",
       "    </tr>\n",
       "    <tr>\n",
       "      <th>df_DF_modifiedOutlier_encoded_</th>\n",
       "      <td>0.617108</td>\n",
       "    </tr>\n",
       "    <tr>\n",
       "      <th>df_modifiedOutlier_encoded_</th>\n",
       "      <td>0.611352</td>\n",
       "    </tr>\n",
       "    <tr>\n",
       "      <th>df_DF_deleteOutlier_encoded_</th>\n",
       "      <td>0.599004</td>\n",
       "    </tr>\n",
       "    <tr>\n",
       "      <th>df_deleteOutlier_encoded_</th>\n",
       "      <td>0.595300</td>\n",
       "    </tr>\n",
       "  </tbody>\n",
       "</table>\n",
       "</div>"
      ],
      "text/plain": [
       "                                                  f1\n",
       "df_DF_encoded_stdScaled_rounded             0.858216\n",
       "df_DF_encoded_minmaxScaled                  0.850914\n",
       "df_encoded_minmaxScaled                     0.842050\n",
       "df_DF_modifiedOutlier_encoded_minmaxScaled  0.820612\n",
       "df_modifiedOutlier_encoded_minmaxScaled     0.812837\n",
       "df_DF_deleteOutlier_encoded_minmaxScaled    0.806290\n",
       "df_deleteOutlier_encoded_minmaxScaled       0.802436\n",
       "df_DF_encoded_                              0.657067\n",
       "df_encoded_                                 0.646186\n",
       "df_DF_modifiedOutlier_encoded_              0.617108\n",
       "df_modifiedOutlier_encoded_                 0.611352\n",
       "df_DF_deleteOutlier_encoded_                0.599004\n",
       "df_deleteOutlier_encoded_                   0.595300"
      ]
     },
     "execution_count": 14,
     "metadata": {},
     "output_type": "execute_result"
    }
   ],
   "source": [
    "cross_val_score_knnsklearn = cross_validate(data_train, KNeighborsClassifier, 5)\n",
    "\n",
    "df_cross_val_score_knnsklearn = pd.DataFrame.from_dict(cross_val_score_knnsklearn, orient='index')\n",
    "df_cross_val_score_knnsklearn.rename(columns={0: \"f1\"}, inplace=True)\n",
    "df_cross_val_score_knnsklearn.sort_values(by=[\"f1\"], ascending=False, inplace=True)\n",
    "df_cross_val_score_knnsklearn"
   ]
  },
  {
   "cell_type": "code",
   "execution_count": 7,
   "metadata": {},
   "outputs": [
    {
     "data": {
      "text/plain": [
       "Text(0.5, 1.0, 'Cross Validation Score for KNN Sklearn')"
      ]
     },
     "execution_count": 7,
     "metadata": {},
     "output_type": "execute_result"
    },
    {
     "data": {
      "image/png": "[encoded data removed]",
      "text/plain": [
       "<Figure size 432x288 with 1 Axes>"
      ]
     },
     "metadata": {
      "needs_background": "light"
     },
     "output_type": "display_data"
    }
   ],
   "source": [
    "sns.barplot(x='f1', y=df_cross_val_score_knnsklearn.index, data=df_cross_val_score_knnsklearn).set_title(\"Cross Validation Score for KNN Sklearn\")"
   ]
  },
  {
   "cell_type": "markdown",
   "metadata": {},
   "source": [
    "# KNN from scratch"
   ]
  },
  {
   "cell_type": "code",
   "execution_count": 8,
   "metadata": {},
   "outputs": [],
   "source": [
    "from collections import Counter\n",
    "\n",
    "def minkowski_distance(x, y, p):\n",
    "    # return the minkowski distance between two points\n",
    "    return np.linalg.norm(x - y, ord=p)\n",
    "\n",
    "class KNN:\n",
    "    def __init__(self, n_neighbors=5, p=3):\n",
    "        self.k = n_neighbors\n",
    "        self.p = p\n",
    "        self.distance_function = minkowski_distance\n",
    "\n",
    "    def fit(self, X, y):\n",
    "        self.X_train = X\n",
    "        self.y_train = y\n",
    "\n",
    "    def predict(self, X):\n",
    "        y_pred = np.zeros(len(X))\n",
    "        for i in range(len(X)):\n",
    "            # find the nearest neighbors of the point x\n",
    "            distances = np.array([self.distance_function(\n",
    "                X.iloc[i, :], self.X_train.iloc[j, :], \n",
    "                p=self.p) for j in range(len(self.X_train))])\n",
    "            k_minimum_distances_indices = np.argsort(distances)[:self.k]\n",
    "            k_minimum_distances_labels = self.y_train.iloc[\n",
    "                k_minimum_distances_indices].to_numpy(\n",
    "            )\n",
    "            counter = Counter(k_minimum_distances_labels)\n",
    "            y_pred[i] = counter.most_common(1)[0][0]\n",
    "        return y_pred\n"
   ]
  },
  {
   "cell_type": "code",
   "execution_count": 9,
   "metadata": {},
   "outputs": [],
   "source": [
    "list_f1_score_knnscratch = get_score(data_train, data_test, KNN, k=5)\n",
    "df_list_f1_score_knnscratch = pd.DataFrame.from_dict(list_f1_score_knnscratch, orient='index')"
   ]
  },
  {
   "cell_type": "code",
   "execution_count": 10,
   "metadata": {},
   "outputs": [
    {
     "data": {
      "text/html": [
       "<div>\n",
       "<style scoped>\n",
       "    .dataframe tbody tr th:only-of-type {\n",
       "        vertical-align: middle;\n",
       "    }\n",
       "\n",
       "    .dataframe tbody tr th {\n",
       "        vertical-align: top;\n",
       "    }\n",
       "\n",
       "    .dataframe thead th {\n",
       "        text-align: right;\n",
       "    }\n",
       "</style>\n",
       "<table border=\"1\" class=\"dataframe\">\n",
       "  <thead>\n",
       "    <tr style=\"text-align: right;\">\n",
       "      <th></th>\n",
       "      <th>f1_score</th>\n",
       "      <th>accuracy</th>\n",
       "      <th>confusion_matrix</th>\n",
       "      <th>roc_auc_score</th>\n",
       "      <th>precision_score</th>\n",
       "      <th>recall_score</th>\n",
       "    </tr>\n",
       "  </thead>\n",
       "  <tbody>\n",
       "    <tr>\n",
       "      <th>df_DF_modifiedOutlier_encoded_minmaxScaled</th>\n",
       "      <td>0.847926</td>\n",
       "      <td>0.850679</td>\n",
       "      <td>[[96, 20], [13, 92]]</td>\n",
       "      <td>0.851888</td>\n",
       "      <td>0.821429</td>\n",
       "      <td>0.876190</td>\n",
       "    </tr>\n",
       "    <tr>\n",
       "      <th>df_encoded_minmaxScaled</th>\n",
       "      <td>0.844311</td>\n",
       "      <td>0.811594</td>\n",
       "      <td>[[83, 30], [22, 141]]</td>\n",
       "      <td>0.799772</td>\n",
       "      <td>0.824561</td>\n",
       "      <td>0.865031</td>\n",
       "    </tr>\n",
       "    <tr>\n",
       "      <th>df_DF_encoded_minmaxScaled</th>\n",
       "      <td>0.838509</td>\n",
       "      <td>0.811594</td>\n",
       "      <td>[[89, 24], [28, 135]]</td>\n",
       "      <td>0.807916</td>\n",
       "      <td>0.849057</td>\n",
       "      <td>0.828221</td>\n",
       "    </tr>\n",
       "    <tr>\n",
       "      <th>df_deleteOutlier_encoded_minmaxScaled</th>\n",
       "      <td>0.815534</td>\n",
       "      <td>0.819905</td>\n",
       "      <td>[[89, 21], [17, 84]]</td>\n",
       "      <td>0.820387</td>\n",
       "      <td>0.800000</td>\n",
       "      <td>0.831683</td>\n",
       "    </tr>\n",
       "    <tr>\n",
       "      <th>df_DF_deleteOutlier_encoded_minmaxScaled</th>\n",
       "      <td>0.810256</td>\n",
       "      <td>0.824645</td>\n",
       "      <td>[[95, 15], [22, 79]]</td>\n",
       "      <td>0.822907</td>\n",
       "      <td>0.840426</td>\n",
       "      <td>0.782178</td>\n",
       "    </tr>\n",
       "    <tr>\n",
       "      <th>df_modifiedOutlier_encoded_minmaxScaled</th>\n",
       "      <td>0.796380</td>\n",
       "      <td>0.796380</td>\n",
       "      <td>[[88, 28], [17, 88]]</td>\n",
       "      <td>0.798358</td>\n",
       "      <td>0.758621</td>\n",
       "      <td>0.838095</td>\n",
       "    </tr>\n",
       "    <tr>\n",
       "      <th>df_encoded_</th>\n",
       "      <td>0.682274</td>\n",
       "      <td>0.655797</td>\n",
       "      <td>[[79, 34], [61, 102]]</td>\n",
       "      <td>0.662441</td>\n",
       "      <td>0.750000</td>\n",
       "      <td>0.625767</td>\n",
       "    </tr>\n",
       "    <tr>\n",
       "      <th>df_DF_encoded_</th>\n",
       "      <td>0.682274</td>\n",
       "      <td>0.655797</td>\n",
       "      <td>[[79, 34], [61, 102]]</td>\n",
       "      <td>0.662441</td>\n",
       "      <td>0.750000</td>\n",
       "      <td>0.625767</td>\n",
       "    </tr>\n",
       "    <tr>\n",
       "      <th>df_deleteOutlier_encoded_</th>\n",
       "      <td>0.648649</td>\n",
       "      <td>0.691943</td>\n",
       "      <td>[[86, 24], [41, 60]]</td>\n",
       "      <td>0.687939</td>\n",
       "      <td>0.714286</td>\n",
       "      <td>0.594059</td>\n",
       "    </tr>\n",
       "    <tr>\n",
       "      <th>df_DF_deleteOutlier_encoded_</th>\n",
       "      <td>0.648649</td>\n",
       "      <td>0.691943</td>\n",
       "      <td>[[86, 24], [41, 60]]</td>\n",
       "      <td>0.687939</td>\n",
       "      <td>0.714286</td>\n",
       "      <td>0.594059</td>\n",
       "    </tr>\n",
       "    <tr>\n",
       "      <th>df_modifiedOutlier_encoded_</th>\n",
       "      <td>0.557895</td>\n",
       "      <td>0.619910</td>\n",
       "      <td>[[84, 32], [52, 53]]</td>\n",
       "      <td>0.614450</td>\n",
       "      <td>0.623529</td>\n",
       "      <td>0.504762</td>\n",
       "    </tr>\n",
       "    <tr>\n",
       "      <th>df_DF_modifiedOutlier_encoded_</th>\n",
       "      <td>0.557895</td>\n",
       "      <td>0.619910</td>\n",
       "      <td>[[84, 32], [52, 53]]</td>\n",
       "      <td>0.614450</td>\n",
       "      <td>0.623529</td>\n",
       "      <td>0.504762</td>\n",
       "    </tr>\n",
       "  </tbody>\n",
       "</table>\n",
       "</div>"
      ],
      "text/plain": [
       "                                            f1_score  accuracy  \\\n",
       "df_DF_modifiedOutlier_encoded_minmaxScaled  0.847926  0.850679   \n",
       "df_encoded_minmaxScaled                     0.844311  0.811594   \n",
       "df_DF_encoded_minmaxScaled                  0.838509  0.811594   \n",
       "df_deleteOutlier_encoded_minmaxScaled       0.815534  0.819905   \n",
       "df_DF_deleteOutlier_encoded_minmaxScaled    0.810256  0.824645   \n",
       "df_modifiedOutlier_encoded_minmaxScaled     0.796380  0.796380   \n",
       "df_encoded_                                 0.682274  0.655797   \n",
       "df_DF_encoded_                              0.682274  0.655797   \n",
       "df_deleteOutlier_encoded_                   0.648649  0.691943   \n",
       "df_DF_deleteOutlier_encoded_                0.648649  0.691943   \n",
       "df_modifiedOutlier_encoded_                 0.557895  0.619910   \n",
       "df_DF_modifiedOutlier_encoded_              0.557895  0.619910   \n",
       "\n",
       "                                                 confusion_matrix  \\\n",
       "df_DF_modifiedOutlier_encoded_minmaxScaled   [[96, 20], [13, 92]]   \n",
       "df_encoded_minmaxScaled                     [[83, 30], [22, 141]]   \n",
       "df_DF_encoded_minmaxScaled                  [[89, 24], [28, 135]]   \n",
       "df_deleteOutlier_encoded_minmaxScaled        [[89, 21], [17, 84]]   \n",
       "df_DF_deleteOutlier_encoded_minmaxScaled     [[95, 15], [22, 79]]   \n",
       "df_modifiedOutlier_encoded_minmaxScaled      [[88, 28], [17, 88]]   \n",
       "df_encoded_                                 [[79, 34], [61, 102]]   \n",
       "df_DF_encoded_                              [[79, 34], [61, 102]]   \n",
       "df_deleteOutlier_encoded_                    [[86, 24], [41, 60]]   \n",
       "df_DF_deleteOutlier_encoded_                 [[86, 24], [41, 60]]   \n",
       "df_modifiedOutlier_encoded_                  [[84, 32], [52, 53]]   \n",
       "df_DF_modifiedOutlier_encoded_               [[84, 32], [52, 53]]   \n",
       "\n",
       "                                            roc_auc_score  precision_score  \\\n",
       "df_DF_modifiedOutlier_encoded_minmaxScaled       0.851888         0.821429   \n",
       "df_encoded_minmaxScaled                          0.799772         0.824561   \n",
       "df_DF_encoded_minmaxScaled                       0.807916         0.849057   \n",
       "df_deleteOutlier_encoded_minmaxScaled            0.820387         0.800000   \n",
       "df_DF_deleteOutlier_encoded_minmaxScaled         0.822907         0.840426   \n",
       "df_modifiedOutlier_encoded_minmaxScaled          0.798358         0.758621   \n",
       "df_encoded_                                      0.662441         0.750000   \n",
       "df_DF_encoded_                                   0.662441         0.750000   \n",
       "df_deleteOutlier_encoded_                        0.687939         0.714286   \n",
       "df_DF_deleteOutlier_encoded_                     0.687939         0.714286   \n",
       "df_modifiedOutlier_encoded_                      0.614450         0.623529   \n",
       "df_DF_modifiedOutlier_encoded_                   0.614450         0.623529   \n",
       "\n",
       "                                            recall_score  \n",
       "df_DF_modifiedOutlier_encoded_minmaxScaled      0.876190  \n",
       "df_encoded_minmaxScaled                         0.865031  \n",
       "df_DF_encoded_minmaxScaled                      0.828221  \n",
       "df_deleteOutlier_encoded_minmaxScaled           0.831683  \n",
       "df_DF_deleteOutlier_encoded_minmaxScaled        0.782178  \n",
       "df_modifiedOutlier_encoded_minmaxScaled         0.838095  \n",
       "df_encoded_                                     0.625767  \n",
       "df_DF_encoded_                                  0.625767  \n",
       "df_deleteOutlier_encoded_                       0.594059  \n",
       "df_DF_deleteOutlier_encoded_                    0.594059  \n",
       "df_modifiedOutlier_encoded_                     0.504762  \n",
       "df_DF_modifiedOutlier_encoded_                  0.504762  "
      ]
     },
     "execution_count": 10,
     "metadata": {},
     "output_type": "execute_result"
    }
   ],
   "source": [
    "df_list_f1_score_knnscratch.sort_values(by=[\"f1_score\", \"accuracy\"], ascending=[False, False], inplace=True)\n",
    "df_list_f1_score_knnscratch"
   ]
  },
  {
   "cell_type": "code",
   "execution_count": 19,
   "metadata": {},
   "outputs": [
    {
     "data": {
      "text/plain": [
       "<AxesSubplot:>"
      ]
     },
     "execution_count": 19,
     "metadata": {},
     "output_type": "execute_result"
    },
    {
     "data": {
      "image/png": "[encoded data removed]",
      "text/plain": [
       "<Figure size 432x288 with 2 Axes>"
      ]
     },
     "metadata": {
      "needs_background": "light"
     },
     "output_type": "display_data"
    }
   ],
   "source": [
    "sns.heatmap(df_list_f1_score_knnscratch.loc['df_DF_modifiedOutlier_encoded_minmaxScaled']['confusion_matrix'], annot=True)"
   ]
  },
  {
   "cell_type": "code",
   "execution_count": 17,
   "metadata": {},
   "outputs": [
    {
     "name": "stderr",
     "output_type": "stream",
     "text": [
      "/home/tridi/anaconda3/envs/lrn/lib/python3.9/site-packages/numpy/core/fromnumeric.py:85: FutureWarning: In a future version, DataFrame.min(axis=None) will return a scalar min over the entire DataFrame. To retain the old behavior, use 'frame.min(axis=0)' or just 'frame.min()'\n",
      "  return reduction(axis=axis, out=out, **passkwargs)\n",
      "/home/tridi/anaconda3/envs/lrn/lib/python3.9/site-packages/numpy/core/fromnumeric.py:85: FutureWarning: In a future version, DataFrame.max(axis=None) will return a scalar max over the entire DataFrame. To retain the old behavior, use 'frame.max(axis=0)' or just 'frame.max()'\n",
      "  return reduction(axis=axis, out=out, **passkwargs)\n",
      "/home/tridi/anaconda3/envs/lrn/lib/python3.9/site-packages/numpy/core/fromnumeric.py:85: FutureWarning: In a future version, DataFrame.min(axis=None) will return a scalar min over the entire DataFrame. To retain the old behavior, use 'frame.min(axis=0)' or just 'frame.min()'\n",
      "  return reduction(axis=axis, out=out, **passkwargs)\n",
      "/home/tridi/anaconda3/envs/lrn/lib/python3.9/site-packages/numpy/core/fromnumeric.py:85: FutureWarning: In a future version, DataFrame.max(axis=None) will return a scalar max over the entire DataFrame. To retain the old behavior, use 'frame.max(axis=0)' or just 'frame.max()'\n",
      "  return reduction(axis=axis, out=out, **passkwargs)\n",
      "/home/tridi/anaconda3/envs/lrn/lib/python3.9/site-packages/numpy/core/fromnumeric.py:85: FutureWarning: In a future version, DataFrame.min(axis=None) will return a scalar min over the entire DataFrame. To retain the old behavior, use 'frame.min(axis=0)' or just 'frame.min()'\n",
      "  return reduction(axis=axis, out=out, **passkwargs)\n",
      "/home/tridi/anaconda3/envs/lrn/lib/python3.9/site-packages/numpy/core/fromnumeric.py:85: FutureWarning: In a future version, DataFrame.max(axis=None) will return a scalar max over the entire DataFrame. To retain the old behavior, use 'frame.max(axis=0)' or just 'frame.max()'\n",
      "  return reduction(axis=axis, out=out, **passkwargs)\n",
      "/home/tridi/anaconda3/envs/lrn/lib/python3.9/site-packages/numpy/core/fromnumeric.py:85: FutureWarning: In a future version, DataFrame.min(axis=None) will return a scalar min over the entire DataFrame. To retain the old behavior, use 'frame.min(axis=0)' or just 'frame.min()'\n",
      "  return reduction(axis=axis, out=out, **passkwargs)\n",
      "/home/tridi/anaconda3/envs/lrn/lib/python3.9/site-packages/numpy/core/fromnumeric.py:85: FutureWarning: In a future version, DataFrame.max(axis=None) will return a scalar max over the entire DataFrame. To retain the old behavior, use 'frame.max(axis=0)' or just 'frame.max()'\n",
      "  return reduction(axis=axis, out=out, **passkwargs)\n",
      "/home/tridi/anaconda3/envs/lrn/lib/python3.9/site-packages/numpy/core/fromnumeric.py:85: FutureWarning: In a future version, DataFrame.min(axis=None) will return a scalar min over the entire DataFrame. To retain the old behavior, use 'frame.min(axis=0)' or just 'frame.min()'\n",
      "  return reduction(axis=axis, out=out, **passkwargs)\n",
      "/home/tridi/anaconda3/envs/lrn/lib/python3.9/site-packages/numpy/core/fromnumeric.py:85: FutureWarning: In a future version, DataFrame.max(axis=None) will return a scalar max over the entire DataFrame. To retain the old behavior, use 'frame.max(axis=0)' or just 'frame.max()'\n",
      "  return reduction(axis=axis, out=out, **passkwargs)\n"
     ]
    },
    {
     "name": "stdout",
     "output_type": "stream",
     "text": [
      "Accuracy Scores Test Data: 82.06 (3.00)\n",
      "Recall Scores Test Data: 82.86 (4.76)\n",
      "Precision Scores Test Data: 80.35 (7.40)\n",
      "F1 Scores Test Data: 81.29 (3.80)\n"
     ]
    }
   ],
   "source": [
    "\n",
    "X = data_train['df_DF_modifiedOutlier_encoded_minmaxScaled'].drop([\"HeartDisease\"], axis=1)\n",
    "y = data_train['df_DF_modifiedOutlier_encoded_minmaxScaled'][\"HeartDisease\"]\n",
    "kf = KFold(n_splits=5, random_state=0, shuffle=True)\n",
    "model = KNN(n_neighbors=5)\n",
    "scoresAccuracy = []\n",
    "scoresRecall = []\n",
    "scoresPrecision = []\n",
    "scoresF1 = []\n",
    "for train_index, test_index in kf.split(X, y):\n",
    "    x_train, x_test = X.iloc[list(train_index)], X.iloc[list(test_index)]\n",
    "    Y_train, Y_test = y.iloc[list(train_index)], y.iloc[list(test_index)]\n",
    "    x_train = (x_train-np.min(x_train)) / \\\n",
    "        (np.max(x_train)-np.min(x_train)).values\n",
    "    x_test = (x_test-np.min(x_test))/(np.max(x_test)-np.min(x_test)).values\n",
    "    model.fit(x_train, Y_train)\n",
    "    y_pred_test = model.predict(x_test)\n",
    "    test_data_accuracy = accuracy_score(Y_test, y_pred_test)\n",
    "    test_data_recall = recall_score(Y_test, y_pred_test)\n",
    "    test_data_precision = precision_score(Y_test, y_pred_test)\n",
    "    test_data_f1_score = f1_score(Y_test, y_pred_test)\n",
    "    scoresAccuracy.append(test_data_accuracy)\n",
    "    scoresRecall.append(test_data_recall)\n",
    "    scoresPrecision.append(test_data_precision)\n",
    "    scoresF1.append(test_data_f1_score)\n",
    "\n",
    "print('Accuracy Scores Test Data: %.2f (%.2f)' %\n",
    "      (np.mean(scoresAccuracy)*100, np.std(scoresAccuracy)*100))\n",
    "print('Recall Scores Test Data: %.2f (%.2f)' %\n",
    "      (np.mean(scoresRecall)*100, np.std(scoresRecall)*100))\n",
    "print('Precision Scores Test Data: %.2f (%.2f)' %\n",
    "      (np.mean(scoresPrecision)*100, np.std(scoresPrecision)*100))\n",
    "print('F1 Scores Test Data: %.2f (%.2f)' %\n",
    "      (np.mean(scoresF1)*100, np.std(scoresF1)*100))\n"
   ]
  },
  {
   "cell_type": "markdown",
   "metadata": {},
   "source": [
    "# Eksperimen"
   ]
  },
  {
   "cell_type": "code",
   "execution_count": 11,
   "metadata": {},
   "outputs": [],
   "source": [
    "X_train = data_train[\"df_encoded_minmaxScaled\"].drop([\"HeartDisease\"], axis=1)\n",
    "y_train = data_train[\"df_encoded_minmaxScaled\"][\"HeartDisease\"]\n",
    "X_test = data_test[\"df_encoded_minmaxScaled\"].drop([\"HeartDisease\"], axis=1)\n",
    "y_test = data_test[\"df_encoded_minmaxScaled\"][\"HeartDisease\"]"
   ]
  },
  {
   "cell_type": "code",
   "execution_count": 12,
   "metadata": {},
   "outputs": [
    {
     "name": "stderr",
     "output_type": "stream",
     "text": [
      "/home/tridi/anaconda3/envs/lrn/lib/python3.9/site-packages/seaborn/_decorators.py:36: FutureWarning: Pass the following variables as keyword args: x, y. From version 0.12, the only valid positional argument will be `data`, and passing other arguments without an explicit keyword will result in an error or misinterpretation.\n",
      "  warnings.warn(\n"
     ]
    },
    {
     "data": {
      "text/plain": [
       "<AxesSubplot:>"
      ]
     },
     "execution_count": 12,
     "metadata": {},
     "output_type": "execute_result"
    },
    {
     "data": {
      "image/png": "[encoded data removed]",
      "text/plain": [
       "<Figure size 432x288 with 1 Axes>"
      ]
     },
     "metadata": {
      "needs_background": "light"
     },
     "output_type": "display_data"
    }
   ],
   "source": [
    "# efek nilai K dengan akurasi\n",
    "k_range = list(range(3, 20, 2))\n",
    "\n",
    "scores = []\n",
    "for k in k_range:\n",
    "    knn = KNN(n_neighbors=k)\n",
    "    knn.fit(X_train, y_train)\n",
    "    y_pred = knn.predict(X_test)\n",
    "    scores.append(f1_score(y_test, y_pred))\n",
    "\n",
    "# plot the scores using sns\n",
    "sns.lineplot(k_range, scores)"
   ]
  },
  {
   "cell_type": "code",
   "execution_count": 13,
   "metadata": {},
   "outputs": [
    {
     "name": "stderr",
     "output_type": "stream",
     "text": [
      "/home/tridi/anaconda3/envs/lrn/lib/python3.9/site-packages/seaborn/_decorators.py:36: FutureWarning: Pass the following variables as keyword args: x, y. From version 0.12, the only valid positional argument will be `data`, and passing other arguments without an explicit keyword will result in an error or misinterpretation.\n",
      "  warnings.warn(\n"
     ]
    },
    {
     "data": {
      "text/plain": [
       "<AxesSubplot:>"
      ]
     },
     "execution_count": 13,
     "metadata": {},
     "output_type": "execute_result"
    },
    {
     "data": {
      "image/png": "[encoded data removed]",
      "text/plain": [
       "<Figure size 432x288 with 1 Axes>"
      ]
     },
     "metadata": {
      "needs_background": "light"
     },
     "output_type": "display_data"
    }
   ],
   "source": [
    "p_list = [1, 2, 3, 4, 5]\n",
    "\n",
    "scores = []\n",
    "for p in p_list:\n",
    "    knn = KNN(n_neighbors=5, p=p)\n",
    "    knn.fit(X_train, y_train)\n",
    "    y_pred = knn.predict(X_test)\n",
    "    scores.append(accuracy_score(y_test, y_pred))\n",
    "\n",
    "# plot the scores using sns\n",
    "sns.lineplot(p_list, scores)"
   ]
  }
 ],
 "metadata": {
  "interpreter": {
   "hash": "c59bf3eaebc6870ce0abe767d1553422d9a61b1b748d3c217720a44c48c2ce38"
  },
  "kernelspec": {
   "display_name": "Python 3.9.7 ('lrn')",
   "language": "python",
   "name": "python3"
  },
  "language_info": {
   "codemirror_mode": {
    "name": "ipython",
    "version": 3
   },
   "file_extension": ".py",
   "mimetype": "text/x-python",
   "name": "python",
   "nbconvert_exporter": "python",
   "pygments_lexer": "ipython3",
   "version": "3.9.7"
  },
  "orig_nbformat": 4
 },
 "nbformat": 4,
 "nbformat_minor": 2
}
