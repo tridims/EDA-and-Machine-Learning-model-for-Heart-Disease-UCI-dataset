{
 "cells": [
  {
   "cell_type": "code",
   "execution_count": 1,
   "metadata": {},
   "outputs": [],
   "source": [
    "# import usual libraries for machine learing and data science\n",
    "import numpy as np\n",
    "import pandas as pd\n",
    "import matplotlib.pyplot as plt\n",
    "import seaborn as sns\n",
    "\n",
    "from sklearn.model_selection import train_test_split\n",
    "from sklearn.neighbors import KNeighborsClassifier\n",
    "from sklearn.metrics import confusion_matrix, accuracy_score, classification_report"
   ]
  },
  {
   "cell_type": "markdown",
   "metadata": {},
   "source": [
    "# Read CSV"
   ]
  },
  {
   "cell_type": "code",
   "execution_count": 9,
   "metadata": {},
   "outputs": [],
   "source": [
    "import os\n",
    "\n",
    "file_list = os.listdir(\"Dataset\")\n",
    "file_list = [file.replace(\".csv\", \"\") for file in file_list]\n",
    "\n",
    "# put file names in file_list that have world splitTrain to file_list_train\n",
    "file_list_train = [file for file in file_list if \"splitTrain\" in file]\n",
    "file_list_test = [file for file in file_list if \"splitTest\" in file]\n",
    "\n",
    "data_train = {}\n",
    "for file in file_list_train:\n",
    "    data_train[file.replace(\"splitTrain_\", \"\")] = pd.read_csv(\"Dataset/\" + file + \".csv\")\n",
    "\n",
    "data_test = {}\n",
    "for file in file_list_test:\n",
    "    data_test[file.replace(\"splitTest_\", \"\")] = pd.read_csv(\"Dataset/\" + file + \".csv\")\n"
   ]
  },
  {
   "cell_type": "markdown",
   "metadata": {},
   "source": [
    "# KNN sklearn"
   ]
  },
  {
   "cell_type": "code",
   "execution_count": 60,
   "metadata": {},
   "outputs": [],
   "source": [
    "# import f1 score metric from sklearn\n",
    "from sklearn.metrics import f1_score\n",
    "\n",
    "# function to get dictionary of f1 score prediction for each data train and data test using KNeighborsClassifier\n",
    "def get_f1_score(data_train, data_test, k):\n",
    "    list_f1score = {}\n",
    "    for key in data_train:\n",
    "        if (\"stdScaled\" not in key):\n",
    "            X_train = data_train[key].drop([\"HeartDisease\"], axis=1)\n",
    "            y_train = data_train[key][\"HeartDisease\"]\n",
    "            X_test = data_test[key].drop([\"HeartDisease\"], axis=1)\n",
    "            y_test = data_test[key][\"HeartDisease\"]\n",
    "\n",
    "            knn = KNeighborsClassifier(n_neighbors=k)\n",
    "            knn.fit(X_train, y_train)\n",
    "            y_pred = knn.predict(X_test)\n",
    "            list_f1score[key] = f1_score(y_test, y_pred)\n",
    "            \n",
    "    return list_f1score"
   ]
  },
  {
   "cell_type": "code",
   "execution_count": 69,
   "metadata": {},
   "outputs": [],
   "source": [
    "list_f1_score_knnsklearn = get_f1_score(data_train, data_test, k=5)\n",
    "list_f1_score_knnsklearn = pd.DataFrame(list_f1_score_knnsklearn.items(), columns=[\"Dataset\", \"F1 Score\"])"
   ]
  },
  {
   "cell_type": "code",
   "execution_count": 74,
   "metadata": {},
   "outputs": [
    {
     "data": {
      "text/html": [
       "<div>\n",
       "<style scoped>\n",
       "    .dataframe tbody tr th:only-of-type {\n",
       "        vertical-align: middle;\n",
       "    }\n",
       "\n",
       "    .dataframe tbody tr th {\n",
       "        vertical-align: top;\n",
       "    }\n",
       "\n",
       "    .dataframe thead th {\n",
       "        text-align: right;\n",
       "    }\n",
       "</style>\n",
       "<table border=\"1\" class=\"dataframe\">\n",
       "  <thead>\n",
       "    <tr style=\"text-align: right;\">\n",
       "      <th></th>\n",
       "      <th>Dataset</th>\n",
       "      <th>F1 Score</th>\n",
       "    </tr>\n",
       "  </thead>\n",
       "  <tbody>\n",
       "    <tr>\n",
       "      <th>0</th>\n",
       "      <td>df_encoded_minmaxScaled</td>\n",
       "      <td>0.845455</td>\n",
       "    </tr>\n",
       "    <tr>\n",
       "      <th>5</th>\n",
       "      <td>df_DF_deleteOutlier_encoded_minmaxScaled</td>\n",
       "      <td>0.838235</td>\n",
       "    </tr>\n",
       "    <tr>\n",
       "      <th>3</th>\n",
       "      <td>df_DF_encoded_minmaxScaled</td>\n",
       "      <td>0.827907</td>\n",
       "    </tr>\n",
       "    <tr>\n",
       "      <th>2</th>\n",
       "      <td>df_deleteOutlier_encoded_minmaxScaled</td>\n",
       "      <td>0.827068</td>\n",
       "    </tr>\n",
       "    <tr>\n",
       "      <th>4</th>\n",
       "      <td>df_DF_modifiedOutlier_encoded_minmaxScaled</td>\n",
       "      <td>0.816327</td>\n",
       "    </tr>\n",
       "    <tr>\n",
       "      <th>1</th>\n",
       "      <td>df_modifiedOutlier_encoded_minmaxScaled</td>\n",
       "      <td>0.808511</td>\n",
       "    </tr>\n",
       "  </tbody>\n",
       "</table>\n",
       "</div>"
      ],
      "text/plain": [
       "                                      Dataset  F1 Score\n",
       "0                     df_encoded_minmaxScaled  0.845455\n",
       "5    df_DF_deleteOutlier_encoded_minmaxScaled  0.838235\n",
       "3                  df_DF_encoded_minmaxScaled  0.827907\n",
       "2       df_deleteOutlier_encoded_minmaxScaled  0.827068\n",
       "4  df_DF_modifiedOutlier_encoded_minmaxScaled  0.816327\n",
       "1     df_modifiedOutlier_encoded_minmaxScaled  0.808511"
      ]
     },
     "execution_count": 74,
     "metadata": {},
     "output_type": "execute_result"
    }
   ],
   "source": [
    "# sort list_f1_score_knnsklearn by f1 score\n",
    "list_f1_score_knnsklearn = list_f1_score_knnsklearn.sort_values(by=\"F1 Score\", ascending=False)\n",
    "list_f1_score_knnsklearn"
   ]
  },
  {
   "cell_type": "markdown",
   "metadata": {},
   "source": [
    "# KNN from scratch"
   ]
  },
  {
   "cell_type": "code",
   "execution_count": 7,
   "metadata": {},
   "outputs": [
    {
     "data": {
      "text/plain": [
       "2.081257965385335"
      ]
     },
     "execution_count": 7,
     "metadata": {},
     "output_type": "execute_result"
    }
   ],
   "source": []
  },
  {
   "cell_type": "code",
   "execution_count": 75,
   "metadata": {},
   "outputs": [],
   "source": [
    "from collections import Counter\n",
    "\n",
    "def minkowski_distance(x, y, p):\n",
    "    # return the minkowski distance between two points\n",
    "    return np.linalg.norm(x - y, ord=p)\n",
    "\n",
    "# create class that represent k-nearest-neighbors\n",
    "class KNN:\n",
    "    def __init__(self, k=5, p = 2):\n",
    "        self.k = k\n",
    "        self.p = p\n",
    "        self.distance_function = minkowski_distance\n",
    "    \n",
    "    def fit(self, X, y):\n",
    "        self.X_train = X\n",
    "        self.y_train = y\n",
    "    \n",
    "    def predict(self, X):\n",
    "        y_pred = np.zeros(len(X))\n",
    "        for i in range(len(X)):\n",
    "            # find the nearest neighbors of the point x\n",
    "            distances = np.array([self.distance_function(X.iloc[i, :], self.X_train.iloc[j, :], p=self.p) for j in range(len(self.X_train))])\n",
    "            k_minimum_distances_indices = np.argsort(distances)[:self.k]\n",
    "            k_minimum_distances_labels = self.y_train.iloc[k_minimum_distances_indices].to_numpy()\n",
    "            counter = Counter(k_minimum_distances_labels)\n",
    "            y_pred[i] = counter.most_common(1)[0][0]\n",
    "        return y_pred"
   ]
  },
  {
   "cell_type": "code",
   "execution_count": 76,
   "metadata": {},
   "outputs": [],
   "source": [
    "def get_f1_score_knn_scratch(data_train, data_test, k):\n",
    "    list_f1score = {}\n",
    "    for key in data_train:\n",
    "        if (\"stdScaled\" not in key):\n",
    "            X_train = data_train[key].drop([\"HeartDisease\"], axis=1)\n",
    "            y_train = data_train[key][\"HeartDisease\"]\n",
    "            X_test = data_test[key].drop([\"HeartDisease\"], axis=1)\n",
    "            y_test = data_test[key][\"HeartDisease\"]\n",
    "\n",
    "            knn = KNN(k=k)\n",
    "            knn.fit(X_train, y_train)\n",
    "            y_pred = knn.predict(X_test)\n",
    "            list_f1score[key] = f1_score(y_test, y_pred)\n",
    "            \n",
    "    return list_f1score"
   ]
  },
  {
   "cell_type": "code",
   "execution_count": 77,
   "metadata": {},
   "outputs": [],
   "source": [
    "list_f1_score_knnscratch = get_f1_score_knn_scratch(data_train, data_test, k=5)"
   ]
  },
  {
   "cell_type": "code",
   "execution_count": 78,
   "metadata": {},
   "outputs": [],
   "source": [
    "# make list_f1_score_knnscratch a dataframe\n",
    "list_f1_score_knnscratch = pd.DataFrame(list_f1_score_knnscratch.items(), columns=[\"Dataset\", \"F1 Score\"])\n",
    "\n",
    "# sort list_f1_score_knnscratch by f1 score\n",
    "list_f1_score_knnscratch = list_f1_score_knnscratch.sort_values(by=\"F1 Score\", ascending=False)"
   ]
  },
  {
   "cell_type": "code",
   "execution_count": 79,
   "metadata": {},
   "outputs": [
    {
     "data": {
      "text/html": [
       "<div>\n",
       "<style scoped>\n",
       "    .dataframe tbody tr th:only-of-type {\n",
       "        vertical-align: middle;\n",
       "    }\n",
       "\n",
       "    .dataframe tbody tr th {\n",
       "        vertical-align: top;\n",
       "    }\n",
       "\n",
       "    .dataframe thead th {\n",
       "        text-align: right;\n",
       "    }\n",
       "</style>\n",
       "<table border=\"1\" class=\"dataframe\">\n",
       "  <thead>\n",
       "    <tr style=\"text-align: right;\">\n",
       "      <th></th>\n",
       "      <th>Dataset</th>\n",
       "      <th>F1 Score</th>\n",
       "    </tr>\n",
       "  </thead>\n",
       "  <tbody>\n",
       "    <tr>\n",
       "      <th>0</th>\n",
       "      <td>df_encoded_minmaxScaled</td>\n",
       "      <td>0.845455</td>\n",
       "    </tr>\n",
       "    <tr>\n",
       "      <th>5</th>\n",
       "      <td>df_DF_deleteOutlier_encoded_minmaxScaled</td>\n",
       "      <td>0.838235</td>\n",
       "    </tr>\n",
       "    <tr>\n",
       "      <th>3</th>\n",
       "      <td>df_DF_encoded_minmaxScaled</td>\n",
       "      <td>0.827907</td>\n",
       "    </tr>\n",
       "    <tr>\n",
       "      <th>2</th>\n",
       "      <td>df_deleteOutlier_encoded_minmaxScaled</td>\n",
       "      <td>0.827068</td>\n",
       "    </tr>\n",
       "    <tr>\n",
       "      <th>4</th>\n",
       "      <td>df_DF_modifiedOutlier_encoded_minmaxScaled</td>\n",
       "      <td>0.816327</td>\n",
       "    </tr>\n",
       "    <tr>\n",
       "      <th>1</th>\n",
       "      <td>df_modifiedOutlier_encoded_minmaxScaled</td>\n",
       "      <td>0.808511</td>\n",
       "    </tr>\n",
       "  </tbody>\n",
       "</table>\n",
       "</div>"
      ],
      "text/plain": [
       "                                      Dataset  F1 Score\n",
       "0                     df_encoded_minmaxScaled  0.845455\n",
       "5    df_DF_deleteOutlier_encoded_minmaxScaled  0.838235\n",
       "3                  df_DF_encoded_minmaxScaled  0.827907\n",
       "2       df_deleteOutlier_encoded_minmaxScaled  0.827068\n",
       "4  df_DF_modifiedOutlier_encoded_minmaxScaled  0.816327\n",
       "1     df_modifiedOutlier_encoded_minmaxScaled  0.808511"
      ]
     },
     "execution_count": 79,
     "metadata": {},
     "output_type": "execute_result"
    }
   ],
   "source": [
    "list_f1_score_knnscratch"
   ]
  },
  {
   "cell_type": "markdown",
   "metadata": {},
   "source": [
    "# Eksperimen"
   ]
  },
  {
   "cell_type": "code",
   "execution_count": 83,
   "metadata": {},
   "outputs": [],
   "source": [
    "X_train = data_train[\"df_encoded_minmaxScaled\"].drop([\"HeartDisease\"], axis=1)\n",
    "y_train = data_train[\"df_encoded_minmaxScaled\"][\"HeartDisease\"]\n",
    "X_test = data_test[\"df_encoded_minmaxScaled\"].drop([\"HeartDisease\"], axis=1)\n",
    "y_test = data_test[\"df_encoded_minmaxScaled\"][\"HeartDisease\"]"
   ]
  },
  {
   "cell_type": "code",
   "execution_count": null,
   "metadata": {},
   "outputs": [],
   "source": [
    "# efek nilai K dengan akurasi\n",
    "k_range = list(range(3, 30, 2))\n",
    "\n",
    "scores = []\n",
    "for k in k_range:\n",
    "    knn = KNN(k=k)\n",
    "    knn.fit(X_train, y_train)\n",
    "    y_pred = knn.predict(X_test)\n",
    "    scores.append(accuracy_score(y_test, y_pred))\n",
    "\n",
    "# plot the scores using sns\n",
    "sns.lineplot(k_range, scores)"
   ]
  },
  {
   "cell_type": "code",
   "execution_count": null,
   "metadata": {},
   "outputs": [],
   "source": [
    "p_list = [1, 2, 3, 4, 5]\n",
    "\n",
    "scores = []\n",
    "for p in p_list:\n",
    "    knn = KNN(k=5, p=p)\n",
    "    knn.fit(X_train, y_train)\n",
    "    y_pred = knn.predict(X_test)\n",
    "    scores.append(accuracy_score(y_test, y_pred))\n",
    "\n",
    "# plot the scores using sns\n",
    "sns.lineplot(p_list, scores)"
   ]
  }
 ],
 "metadata": {
  "interpreter": {
   "hash": "c59bf3eaebc6870ce0abe767d1553422d9a61b1b748d3c217720a44c48c2ce38"
  },
  "kernelspec": {
   "display_name": "Python 3.9.7 ('lrn')",
   "language": "python",
   "name": "python3"
  },
  "language_info": {
   "codemirror_mode": {
    "name": "ipython",
    "version": 3
   },
   "file_extension": ".py",
   "mimetype": "text/x-python",
   "name": "python",
   "nbconvert_exporter": "python",
   "pygments_lexer": "ipython3",
   "version": "3.9.7"
  },
  "orig_nbformat": 4
 },
 "nbformat": 4,
 "nbformat_minor": 2
}
