{
 "cells": [
  {
   "cell_type": "code",
   "execution_count": 1,
   "metadata": {},
   "outputs": [],
   "source": [
    "# import usual libraries for machine learing and data science\n",
    "import numpy as np\n",
    "import pandas as pd\n",
    "import matplotlib.pyplot as plt\n",
    "import seaborn as sns\n",
    "\n",
    "from sklearn.model_selection import train_test_split\n",
    "from sklearn.metrics import confusion_matrix, accuracy_score\n",
    "\n",
    "# import naive bayes classifier\n",
    "from sklearn.naive_bayes import GaussianNB, MultinomialNB, CategoricalNB"
   ]
  },
  {
   "cell_type": "markdown",
   "metadata": {},
   "source": [
    "# Prepare the data"
   ]
  },
  {
   "cell_type": "code",
   "execution_count": 2,
   "metadata": {},
   "outputs": [
    {
     "data": {
      "text/html": [
       "<div>\n",
       "<style scoped>\n",
       "    .dataframe tbody tr th:only-of-type {\n",
       "        vertical-align: middle;\n",
       "    }\n",
       "\n",
       "    .dataframe tbody tr th {\n",
       "        vertical-align: top;\n",
       "    }\n",
       "\n",
       "    .dataframe thead th {\n",
       "        text-align: right;\n",
       "    }\n",
       "</style>\n",
       "<table border=\"1\" class=\"dataframe\">\n",
       "  <thead>\n",
       "    <tr style=\"text-align: right;\">\n",
       "      <th></th>\n",
       "      <th>Age</th>\n",
       "      <th>RestingBP</th>\n",
       "      <th>Cholesterol</th>\n",
       "      <th>FastingBS</th>\n",
       "      <th>RestingECG</th>\n",
       "      <th>MaxHR</th>\n",
       "      <th>ExerciseAngina</th>\n",
       "      <th>Oldpeak</th>\n",
       "      <th>ST_Slope</th>\n",
       "      <th>HeartDisease</th>\n",
       "      <th>Sex_F</th>\n",
       "      <th>Sex_M</th>\n",
       "      <th>ChestPainType_ASY</th>\n",
       "      <th>ChestPainType_ATA</th>\n",
       "      <th>ChestPainType_NAP</th>\n",
       "      <th>ChestPainType_TA</th>\n",
       "    </tr>\n",
       "  </thead>\n",
       "  <tbody>\n",
       "    <tr>\n",
       "      <th>0</th>\n",
       "      <td>0.244898</td>\n",
       "      <td>0.444444</td>\n",
       "      <td>0.633540</td>\n",
       "      <td>0.0</td>\n",
       "      <td>0.5</td>\n",
       "      <td>0.770992</td>\n",
       "      <td>0.0</td>\n",
       "      <td>0.000000</td>\n",
       "      <td>1.0</td>\n",
       "      <td>0.0</td>\n",
       "      <td>0.0</td>\n",
       "      <td>1.0</td>\n",
       "      <td>0.0</td>\n",
       "      <td>1.0</td>\n",
       "      <td>0.0</td>\n",
       "      <td>0.0</td>\n",
       "    </tr>\n",
       "    <tr>\n",
       "      <th>1</th>\n",
       "      <td>0.428571</td>\n",
       "      <td>0.629630</td>\n",
       "      <td>0.295031</td>\n",
       "      <td>0.0</td>\n",
       "      <td>0.5</td>\n",
       "      <td>0.648855</td>\n",
       "      <td>0.0</td>\n",
       "      <td>0.161290</td>\n",
       "      <td>0.5</td>\n",
       "      <td>1.0</td>\n",
       "      <td>1.0</td>\n",
       "      <td>0.0</td>\n",
       "      <td>0.0</td>\n",
       "      <td>0.0</td>\n",
       "      <td>1.0</td>\n",
       "      <td>0.0</td>\n",
       "    </tr>\n",
       "    <tr>\n",
       "      <th>2</th>\n",
       "      <td>0.183673</td>\n",
       "      <td>0.351852</td>\n",
       "      <td>0.614907</td>\n",
       "      <td>0.0</td>\n",
       "      <td>1.0</td>\n",
       "      <td>0.206107</td>\n",
       "      <td>0.0</td>\n",
       "      <td>0.000000</td>\n",
       "      <td>1.0</td>\n",
       "      <td>0.0</td>\n",
       "      <td>0.0</td>\n",
       "      <td>1.0</td>\n",
       "      <td>0.0</td>\n",
       "      <td>1.0</td>\n",
       "      <td>0.0</td>\n",
       "      <td>0.0</td>\n",
       "    </tr>\n",
       "    <tr>\n",
       "      <th>3</th>\n",
       "      <td>0.408163</td>\n",
       "      <td>0.425926</td>\n",
       "      <td>0.400621</td>\n",
       "      <td>0.0</td>\n",
       "      <td>0.5</td>\n",
       "      <td>0.282443</td>\n",
       "      <td>1.0</td>\n",
       "      <td>0.241935</td>\n",
       "      <td>0.5</td>\n",
       "      <td>1.0</td>\n",
       "      <td>1.0</td>\n",
       "      <td>0.0</td>\n",
       "      <td>1.0</td>\n",
       "      <td>0.0</td>\n",
       "      <td>0.0</td>\n",
       "      <td>0.0</td>\n",
       "    </tr>\n",
       "    <tr>\n",
       "      <th>4</th>\n",
       "      <td>0.530612</td>\n",
       "      <td>0.537037</td>\n",
       "      <td>0.341615</td>\n",
       "      <td>0.0</td>\n",
       "      <td>0.5</td>\n",
       "      <td>0.389313</td>\n",
       "      <td>0.0</td>\n",
       "      <td>0.000000</td>\n",
       "      <td>1.0</td>\n",
       "      <td>0.0</td>\n",
       "      <td>0.0</td>\n",
       "      <td>1.0</td>\n",
       "      <td>0.0</td>\n",
       "      <td>0.0</td>\n",
       "      <td>1.0</td>\n",
       "      <td>0.0</td>\n",
       "    </tr>\n",
       "  </tbody>\n",
       "</table>\n",
       "</div>"
      ],
      "text/plain": [
       "        Age  RestingBP  Cholesterol  FastingBS  RestingECG     MaxHR  \\\n",
       "0  0.244898   0.444444     0.633540        0.0         0.5  0.770992   \n",
       "1  0.428571   0.629630     0.295031        0.0         0.5  0.648855   \n",
       "2  0.183673   0.351852     0.614907        0.0         1.0  0.206107   \n",
       "3  0.408163   0.425926     0.400621        0.0         0.5  0.282443   \n",
       "4  0.530612   0.537037     0.341615        0.0         0.5  0.389313   \n",
       "\n",
       "   ExerciseAngina   Oldpeak  ST_Slope  HeartDisease  Sex_F  Sex_M  \\\n",
       "0             0.0  0.000000       1.0           0.0    0.0    1.0   \n",
       "1             0.0  0.161290       0.5           1.0    1.0    0.0   \n",
       "2             0.0  0.000000       1.0           0.0    0.0    1.0   \n",
       "3             1.0  0.241935       0.5           1.0    1.0    0.0   \n",
       "4             0.0  0.000000       1.0           0.0    0.0    1.0   \n",
       "\n",
       "   ChestPainType_ASY  ChestPainType_ATA  ChestPainType_NAP  ChestPainType_TA  \n",
       "0                0.0                1.0                0.0               0.0  \n",
       "1                0.0                0.0                1.0               0.0  \n",
       "2                0.0                1.0                0.0               0.0  \n",
       "3                1.0                0.0                0.0               0.0  \n",
       "4                0.0                0.0                1.0               0.0  "
      ]
     },
     "execution_count": 2,
     "metadata": {},
     "output_type": "execute_result"
    }
   ],
   "source": [
    "df = pd.read_csv('./Dataset/heart_encode_scaled.csv')\n",
    "df.head()"
   ]
  },
  {
   "cell_type": "code",
   "execution_count": 3,
   "metadata": {},
   "outputs": [],
   "source": [
    "# split the data into training and testing data using train_test_split\n",
    "\n",
    "X = df.drop('HeartDisease', axis=1)\n",
    "y = df['HeartDisease']\n",
    "X_train, X_test, y_train, y_test = train_test_split(X, y, test_size=0.2)"
   ]
  },
  {
   "cell_type": "markdown",
   "metadata": {},
   "source": [
    "# Comparing already made models"
   ]
  },
  {
   "cell_type": "markdown",
   "metadata": {},
   "source": [
    "### Gaussian Naive Bayes"
   ]
  },
  {
   "cell_type": "code",
   "execution_count": null,
   "metadata": {},
   "outputs": [],
   "source": [
    "# create prediction using naive bayes classifier\n",
    "GaussianNB_model = GaussianNB()\n",
    "GaussianNB_model.fit(X_train, y_train)\n",
    "y_pred = GaussianNB_model.predict(X_test)"
   ]
  },
  {
   "cell_type": "code",
   "execution_count": null,
   "metadata": {},
   "outputs": [],
   "source": [
    "print(\"Accuracy:\",accuracy_score(y_test, y_pred))"
   ]
  },
  {
   "cell_type": "markdown",
   "metadata": {},
   "source": [
    "### Multinomial Naive Bayes"
   ]
  },
  {
   "cell_type": "code",
   "execution_count": null,
   "metadata": {},
   "outputs": [],
   "source": [
    "multinomialNB_model = MultinomialNB()\n",
    "multinomialNB_model.fit(X_train, y_train)\n",
    "y_pred = multinomialNB_model.predict(X_test)"
   ]
  },
  {
   "cell_type": "code",
   "execution_count": null,
   "metadata": {},
   "outputs": [],
   "source": [
    "print(\"Accuracy:\",accuracy_score(y_test, y_pred))"
   ]
  },
  {
   "cell_type": "markdown",
   "metadata": {},
   "source": [
    "### Categorical Naive Bayes"
   ]
  },
  {
   "cell_type": "code",
   "execution_count": null,
   "metadata": {},
   "outputs": [],
   "source": [
    "categoricalNB_model = CategoricalNB()\n",
    "categoricalNB_model.fit(X_train, y_train)\n",
    "y_pred = categoricalNB_model.predict(X_test)"
   ]
  },
  {
   "cell_type": "code",
   "execution_count": null,
   "metadata": {},
   "outputs": [],
   "source": [
    "print(\"Accuracy:\",accuracy_score(y_test, y_pred))"
   ]
  },
  {
   "cell_type": "markdown",
   "metadata": {},
   "source": [
    "# Model from scratch"
   ]
  },
  {
   "cell_type": "code",
   "execution_count": 20,
   "metadata": {},
   "outputs": [],
   "source": [
    "from collections import Counter\n",
    "\n",
    "class GaussianNB_Classifier:\n",
    "    def get_prior(self, data):\n",
    "        \"\"\"\n",
    "        data : list data\n",
    "        \"\"\"\n",
    "        n_data = len(data)\n",
    "        prior = Counter(data)\n",
    "        for key in prior.keys():\n",
    "            prior[key] = prior[key] / n_data\n",
    "        return prior\n",
    "\n",
    "    def get_mean_and_std(self, data):\n",
    "        list_columns = data.columns[:-1]\n",
    "        class_column_name = data.columns[-1]\n",
    "        list_class = set(data[class_column_name])\n",
    "\n",
    "        mean = {}\n",
    "        std = {}\n",
    "\n",
    "        for column in list_columns:\n",
    "            for a_class in list_class:\n",
    "                mean[(column, a_class)] = np.mean(\n",
    "                    data.loc[data[class_column_name] == a_class][column])\n",
    "                std[(column, a_class)] = np.std(\n",
    "                    data.loc[data[class_column_name] == a_class][column])\n",
    "\n",
    "        return mean, std\n",
    "\n",
    "    def get_gaussian_likelihood(self, data, mean, std):\n",
    "        res = (1/np.sqrt(2*np.pi*(std**2)))\n",
    "        res *= np.exp((-1*((data-mean)**2))/(2*(std**2)))\n",
    "\n",
    "        return res\n",
    "\n",
    "    def training_gaussianNB(self, X, y):\n",
    "        X = X.join(y)\n",
    "        prior = self.get_prior(y)\n",
    "        mean, std = self.get_mean_and_std(X)\n",
    "\n",
    "        list_class = set(y)\n",
    "        list_columns = X.columns[:-1]\n",
    "\n",
    "        model = {}\n",
    "        model['prior'] = prior\n",
    "        model['mean'] = mean\n",
    "        model['std'] = std\n",
    "        model['class'] = list_class\n",
    "        model['columns'] = list_columns\n",
    "\n",
    "        return model\n",
    "\n",
    "    def __init__(self, X, y):\n",
    "        self.model = self.training_gaussianNB(X, y)\n",
    "\n",
    "    def get_single_prediction(self, data):\n",
    "        prior = self.model['prior']\n",
    "        mean = self.model['mean']\n",
    "        std = self.model['std']\n",
    "        list_class = self.model['class']\n",
    "        list_columns = self.model['columns']\n",
    "        posterior = dict.fromkeys(list_class, 1)\n",
    "\n",
    "        for a_class in list_class:\n",
    "            for column in list_columns:    \n",
    "                posterior[a_class] *= self.get_gaussian_likelihood(\n",
    "                    data[column], mean[(column, a_class)], std[(column, a_class)])\n",
    "            posterior[a_class] *= prior[a_class]\n",
    "\n",
    "        kelas_uji = max(posterior, key=posterior.get)\n",
    "        return kelas_uji\n",
    "\n",
    "    def predict(self, X_test):\n",
    "        y_pred = []\n",
    "        for index, row in X_test.iterrows():\n",
    "            y_pred.append(self.get_single_prediction(row))\n",
    "        return np.array(y_pred)\n"
   ]
  },
  {
   "cell_type": "code",
   "execution_count": 21,
   "metadata": {},
   "outputs": [],
   "source": [
    "gnb = GaussianNB_Classifier(X_train, y_train)\n",
    "y_pred = gnb.predict(X_test)"
   ]
  },
  {
   "cell_type": "code",
   "execution_count": 22,
   "metadata": {},
   "outputs": [
    {
     "name": "stdout",
     "output_type": "stream",
     "text": [
      "Accuracy: 0.8299319727891157\n"
     ]
    }
   ],
   "source": [
    "print(\"Accuracy:\",accuracy_score(y_test, y_pred))"
   ]
  },
  {
   "cell_type": "code",
   "execution_count": 23,
   "metadata": {},
   "outputs": [
    {
     "data": {
      "text/plain": [
       "<AxesSubplot:>"
      ]
     },
     "execution_count": 23,
     "metadata": {},
     "output_type": "execute_result"
    },
    {
     "data": {
      "image/png": "[encoded data removed]",
      "text/plain": [
       "<Figure size 432x288 with 2 Axes>"
      ]
     },
     "metadata": {
      "needs_background": "light"
     },
     "output_type": "display_data"
    }
   ],
   "source": [
    "# create confusion matrix\n",
    "cm = confusion_matrix(y_test, y_pred)\n",
    "sns.heatmap(cm, annot=True)"
   ]
  }
 ],
 "metadata": {
  "interpreter": {
   "hash": "c59bf3eaebc6870ce0abe767d1553422d9a61b1b748d3c217720a44c48c2ce38"
  },
  "kernelspec": {
   "display_name": "Python 3.9.7 ('lrn')",
   "language": "python",
   "name": "python3"
  },
  "language_info": {
   "codemirror_mode": {
    "name": "ipython",
    "version": 3
   },
   "file_extension": ".py",
   "mimetype": "text/x-python",
   "name": "python",
   "nbconvert_exporter": "python",
   "pygments_lexer": "ipython3",
   "version": "3.9.7"
  },
  "orig_nbformat": 4
 },
 "nbformat": 4,
 "nbformat_minor": 2
}
