{
  "nbformat": 4,
  "nbformat_minor": 0,
  "metadata": {
    "colab": {
      "name": "Optimasi Logistic_regression.ipynb",
      "provenance": [],
      "collapsed_sections": []
    },
    "kernelspec": {
      "name": "python3",
      "display_name": "Python 3"
    },
    "language_info": {
      "name": "python"
    }
  },
  "cells": [
    {
      "cell_type": "code",
      "execution_count": null,
      "metadata": {
        "id": "oMOIYjEBRABk"
      },
      "outputs": [],
      "source": [
        "import pandas as pd\n",
        "import numpy as np\n",
        "import matplotlib\n",
        "import matplotlib.pyplot as plt\n",
        "import seaborn as sns\n",
        "from numpy import mean\n",
        "from numpy import std\n",
        "from sklearn.model_selection import KFold\n",
        "from sklearn.model_selection import cross_val_score\n",
        "from sklearn.metrics import recall_score\n",
        "from sklearn.metrics import precision_score\n",
        "from sklearn.metrics import f1_score\n",
        "from sklearn.metrics import accuracy_score\n",
        "from sklearn.metrics import roc_auc_score\n",
        "\n",
        "%matplotlib inline\n",
        "sns.set_style('ticks')\n",
        "sns.set_palette('colorblind')\n",
        "from sklearn.model_selection import train_test_split"
      ]
    },
    {
      "cell_type": "code",
      "source": [
        "df = pd.read_csv('https://raw.githubusercontent.com/tridims/Project-Internship-BCC/main/Dataset/heart_encode.csv')"
      ],
      "metadata": {
        "id": "MUq2eUXWRm4N"
      },
      "execution_count": null,
      "outputs": []
    },
    {
      "cell_type": "code",
      "source": [
        "df.info()"
      ],
      "metadata": {
        "colab": {
          "base_uri": "https://localhost:8080/"
        },
        "id": "agKOh4yt7yaW",
        "outputId": "e5cabf70-f385-4a67-f10f-c6f5fcf41e2d"
      },
      "execution_count": null,
      "outputs": [
        {
          "output_type": "stream",
          "name": "stdout",
          "text": [
            "<class 'pandas.core.frame.DataFrame'>\n",
            "RangeIndex: 734 entries, 0 to 733\n",
            "Data columns (total 16 columns):\n",
            " #   Column             Non-Null Count  Dtype  \n",
            "---  ------             --------------  -----  \n",
            " 0   Age                734 non-null    int64  \n",
            " 1   RestingBP          734 non-null    float64\n",
            " 2   Cholesterol        734 non-null    int64  \n",
            " 3   FastingBS          734 non-null    int64  \n",
            " 4   RestingECG         734 non-null    int64  \n",
            " 5   MaxHR              734 non-null    int64  \n",
            " 6   ExerciseAngina     734 non-null    int64  \n",
            " 7   Oldpeak            734 non-null    float64\n",
            " 8   ST_Slope           734 non-null    int64  \n",
            " 9   HeartDisease       734 non-null    int64  \n",
            " 10  Sex_F              734 non-null    int64  \n",
            " 11  Sex_M              734 non-null    int64  \n",
            " 12  ChestPainType_ASY  734 non-null    int64  \n",
            " 13  ChestPainType_ATA  734 non-null    int64  \n",
            " 14  ChestPainType_NAP  734 non-null    int64  \n",
            " 15  ChestPainType_TA   734 non-null    int64  \n",
            "dtypes: float64(2), int64(14)\n",
            "memory usage: 91.9 KB\n"
          ]
        }
      ]
    },
    {
      "cell_type": "code",
      "source": [
        "X = df.drop(['HeartDisease'], axis=1)\n",
        "y = df['HeartDisease']"
      ],
      "metadata": {
        "id": "yzLfIHKdj8pI"
      },
      "execution_count": null,
      "outputs": []
    },
    {
      "cell_type": "markdown",
      "source": [
        "#Pre-processing"
      ],
      "metadata": {
        "id": "ajz5-kGHxmr2"
      }
    },
    {
      "cell_type": "code",
      "source": [
        "X_train, X_test, y_train, y_test = train_test_split(X,y, test_size = 0.2, random_state = 0, stratify=y)"
      ],
      "metadata": {
        "id": "i6SISbpLWR_z"
      },
      "execution_count": null,
      "outputs": []
    },
    {
      "cell_type": "code",
      "source": [
        "X_train=(X_train-np.min(X_train))/(np.max(X_train)-np.min(X_train)).values\n",
        "X_test=(X_test-np.min(X_test))/(np.max(X_test)-np.min(X_test)).values"
      ],
      "metadata": {
        "id": "LM7wAq0300bR"
      },
      "execution_count": null,
      "outputs": []
    },
    {
      "cell_type": "markdown",
      "source": [
        "# Hyperparameter Tuning"
      ],
      "metadata": {
        "id": "IXcJZQkYloaI"
      }
    },
    {
      "cell_type": "code",
      "source": [
        "from hyperopt import tpe\n",
        "from hyperopt import STATUS_OK\n",
        "from hyperopt import Trials\n",
        "from hyperopt import hp\n",
        "from hyperopt import fmin\n",
        "from sklearn.linear_model import LogisticRegression"
      ],
      "metadata": {
        "id": "5ji1Fxt27H8n"
      },
      "execution_count": null,
      "outputs": []
    },
    {
      "cell_type": "code",
      "source": [
        "N_FOLDS = 5\n",
        "MAX_EVALS = 50\n",
        "space = {\n",
        "    'C' : hp.uniform('C', 0.01, 3),\n",
        "    'max_iter' : hp.choice('max_iter', range(5,10000))\n",
        "}"
      ],
      "metadata": {
        "id": "ByILwcYMlnXj"
      },
      "execution_count": null,
      "outputs": []
    },
    {
      "cell_type": "code",
      "source": [
        "def objective(params, n_folds = N_FOLDS):\n",
        "\n",
        "    clf = LogisticRegression(**params)\n",
        "    scores = cross_val_score(clf, X, y, cv=5, scoring='f1_macro')\n",
        "\n",
        "    # Extract the best score\n",
        "    best_score = max(scores)\n",
        "\n",
        "    # Loss must be minimized\n",
        "    loss = 1 - best_score\n",
        "\n",
        "    # Dictionary with information for evaluation\n",
        "    return {'loss': loss, 'params': params, 'status': STATUS_OK}"
      ],
      "metadata": {
        "id": "YDsDFViL8-5f"
      },
      "execution_count": null,
      "outputs": []
    },
    {
      "cell_type": "code",
      "source": [
        "# Algorithm\n",
        "tpe_algorithm = tpe.suggest\n",
        "\n",
        "# Trials object to track progress\n",
        "bayes_trials = Trials()\n",
        "\n",
        "# Optimize\n",
        "best = fmin(fn = objective, space = space, algo = tpe.suggest, max_evals = MAX_EVALS, trials = bayes_trials)"
      ],
      "metadata": {
        "id": "YrMYbg50-aVv"
      },
      "execution_count": null,
      "outputs": []
    },
    {
      "cell_type": "code",
      "source": [
        "best"
      ],
      "metadata": {
        "colab": {
          "base_uri": "https://localhost:8080/"
        },
        "id": "TDkVj5oY_7Rf",
        "outputId": "5b1e43c4-80e0-43dc-e387-9064a92ba093"
      },
      "execution_count": null,
      "outputs": [
        {
          "output_type": "execute_result",
          "data": {
            "text/plain": [
              "{'C': 1.621512783822278, 'max_iter': 8262}"
            ]
          },
          "metadata": {},
          "execution_count": 29
        }
      ]
    },
    {
      "cell_type": "markdown",
      "source": [
        ""
      ],
      "metadata": {
        "id": "DjIkDL0Vz64p"
      }
    },
    {
      "cell_type": "code",
      "source": [
        "logre = LogisticRegression(C = 1.621512783822278, max_iter =  8262)\n",
        "logre.fit(X_train,y_train)"
      ],
      "metadata": {
        "id": "FW4OtBFXYUpD",
        "colab": {
          "base_uri": "https://localhost:8080/"
        },
        "outputId": "62f46dc3-74b9-4ae3-b0bc-c07cc9ed18b4"
      },
      "execution_count": null,
      "outputs": [
        {
          "output_type": "execute_result",
          "data": {
            "text/plain": [
              "LogisticRegression(C=1.621512783822278, max_iter=8262)"
            ]
          },
          "metadata": {},
          "execution_count": 80
        }
      ]
    },
    {
      "cell_type": "code",
      "source": [
        "y_predsk = logre.predict(X_test)"
      ],
      "metadata": {
        "id": "c2uXkw1vYglo"
      },
      "execution_count": null,
      "outputs": []
    },
    {
      "cell_type": "code",
      "source": [
        "cv = KFold(n_splits=5, shuffle=True)\n",
        "scores = cross_val_score(logre , X, y, scoring='accuracy', cv=cv, n_jobs=-1)\n",
        "# report performance\n",
        "print('Accuracy: %.3f (%.3f)' % (mean(scores), std(scores)))"
      ],
      "metadata": {
        "id": "KMCH_kvNKPA0",
        "colab": {
          "base_uri": "https://localhost:8080/"
        },
        "outputId": "7c0e03f6-689f-4f68-97a8-312090c534a0"
      },
      "execution_count": null,
      "outputs": [
        {
          "output_type": "stream",
          "name": "stdout",
          "text": [
            "Accuracy: 0.850 (0.014)\n"
          ]
        }
      ]
    },
    {
      "cell_type": "code",
      "source": [
        "from sklearn.metrics import accuracy_score\n",
        "print(accuracy_score(y_test,y_predsk))"
      ],
      "metadata": {
        "id": "0P4BOyaxYmSx",
        "colab": {
          "base_uri": "https://localhost:8080/"
        },
        "outputId": "7e9fc599-82be-4573-dbc9-6728828ad41e"
      },
      "execution_count": null,
      "outputs": [
        {
          "output_type": "stream",
          "name": "stdout",
          "text": [
            "0.8503401360544217\n"
          ]
        }
      ]
    },
    {
      "cell_type": "markdown",
      "source": [
        "#Logistic Regression from scratch"
      ],
      "metadata": {
        "id": "kFj5oX8zgXWj"
      }
    },
    {
      "cell_type": "code",
      "source": [
        "class Logistic_Regression():\n",
        "\n",
        "  # declaring learning rate & epochs (Hyperparametes)\n",
        "  def __init__(self, learning_rate=0.01, epoch=1000):\n",
        "\n",
        "    self.learning_rate = learning_rate\n",
        "    self.epoch = epoch\n",
        "\n",
        "  # fit function to train the model with dataset\n",
        "  def fit(self, X, y):\n",
        "\n",
        "    # jumlah titik data dalam kumpulan data (jumlah baris)  -->  m\n",
        "    # jumlah fitur input dalam dataset (jumlah kolom)  --> n\n",
        "    self.m, self.n = X.shape\n",
        "\n",
        "    #Inisialisasi nilai theta\n",
        "    self.theta = np.zeros(self.n) \n",
        "\n",
        "    self.X = X\n",
        "\n",
        "    self.y = y\n",
        "\n",
        "    # Mengimplementasikan gradient descent \n",
        "    # untuk mengoptimasikan nilai weight dan bias\n",
        "\n",
        "    for i in range(self.epoch):     \n",
        "      self.gradientDescent()\n",
        "\n",
        "  # Fungsi sigmoid\n",
        "  def sigmoidF(self):\n",
        "    return 1 / (1 + np.exp( - (self.X.dot(self.theta)))) \n",
        "\n",
        "  def gradientDescent(self):\n",
        "    # Y_hat formula (sigmoid function)\n",
        "    Y_hat = self.sigmoidF()\n",
        "\n",
        "    \"\"\"\n",
        "    turunan cost function terhadap weight dan bias \n",
        "    untuk diimplementasikan dalam gradient descent \n",
        "    \"\"\"\n",
        "    dT = (1/self.m)*np.dot(self.X.T, (Y_hat - self.y))\n",
        "\n",
        "    # Memperbaharui weight dan bias\n",
        "\n",
        "    self.theta = self.theta - self.learning_rate * dT\n",
        "\n",
        "  # Sigmoid Equation & Decision Boundary\n",
        "  def predict(self, X):\n",
        "    y_pred = 1 / (1 + np.exp(-(X.dot(self.theta))))\n",
        "    y_pred = np.where( y_pred > 0.5, 1, 0)\n",
        "    return y_pred"
      ],
      "metadata": {
        "id": "t936kQnhJ7A8"
      },
      "execution_count": null,
      "outputs": []
    },
    {
      "cell_type": "markdown",
      "source": [
        "Memprediksi dengan fungsi sigmoid dan menggunakan Decision boundry dimana jika y_pred > 0.5 maka akan dilabelkan sebagai 1 dan sebaliknya (1 memiliki penyakit jantung dan 0 tidak memiliki penyakit jantung).\n"
      ],
      "metadata": {
        "id": "mb4Zhk1ViOj6"
      }
    },
    {
      "cell_type": "code",
      "source": [
        "classifier = Logistic_Regression(learning_rate=1.621512783822278, epoch=8262)\n",
        "classifier.fit(X_train, y_train)"
      ],
      "metadata": {
        "id": "cDyFFf1p343k"
      },
      "execution_count": null,
      "outputs": []
    },
    {
      "cell_type": "code",
      "source": [
        "y_pred = classifier.predict(X_test)"
      ],
      "metadata": {
        "id": "s-hHdDrt4GsM"
      },
      "execution_count": null,
      "outputs": []
    },
    {
      "cell_type": "markdown",
      "source": [
        "#Cross Validation dengan Kfold"
      ],
      "metadata": {
        "id": "VwN7Gu_eKqCY"
      }
    },
    {
      "cell_type": "code",
      "source": [
        "model = Logistic_Regression(learning_rate=1.621512783822278, epoch=8262)"
      ],
      "metadata": {
        "id": "eWr0RG_H3NJy"
      },
      "execution_count": null,
      "outputs": []
    },
    {
      "cell_type": "code",
      "source": [
        "kf = KFold(n_splits=5, random_state=0,shuffle=True)\n",
        "scoresAccuracy = []\n",
        "scoresRecall = []\n",
        "scoresPrecision = []\n",
        "scoresF1 = []\n",
        "for train_index, test_index in kf.split(X, y):\n",
        "    x_train, x_test = X.iloc[list(train_index)], X.iloc[list(test_index)]\n",
        "    Y_train, Y_test = y.iloc[list(train_index)], y.iloc[list(test_index)]\n",
        "    x_train=(x_train-np.min(x_train))/(np.max(x_train)-np.min(x_train)).values\n",
        "    x_test=(x_test-np.min(x_test))/(np.max(x_test)-np.min(x_test)).values\n",
        "    model.fit(x_train, Y_train)\n",
        "    y_pred_test = classifier.predict(x_test)\n",
        "    test_data_accuracy = accuracy_score( Y_test, y_pred_test)\n",
        "    test_data_recall = recall_score(Y_test, y_pred_test)\n",
        "    test_data_precision  = precision_score( Y_test, y_pred_test)\n",
        "    test_data_f1_score  = f1_score( Y_test, y_pred_test)\n",
        "    scoresAccuracy.append(test_data_accuracy)\n",
        "    scoresRecall.append(test_data_recall)\n",
        "    scoresPrecision.append(test_data_precision)\n",
        "    scoresF1.append(test_data_f1_score)\n"
      ],
      "metadata": {
        "id": "6CgHcdf3KtDJ"
      },
      "execution_count": null,
      "outputs": []
    },
    {
      "cell_type": "code",
      "source": [
        "print('Accuracy Scores Test Data: %.2f (%.2f)' % (mean(scoresAccuracy)*100, std(scoresAccuracy)*100))\n",
        "print('Recall Scores Test Data: %.2f (%.2f)' % (mean(scoresRecall)*100, std(scoresRecall)*100))\n",
        "print('Precision Scores Test Data: %.2f (%.2f)' % (mean(scoresPrecision)*100, std(scoresPrecision)*100))\n",
        "print('F1 Scores Test Data: %.2f (%.2f)' % (mean(scoresF1)*100, std(scoresF1)*100))"
      ],
      "metadata": {
        "id": "PJz4PckiMg3Y",
        "colab": {
          "base_uri": "https://localhost:8080/"
        },
        "outputId": "19da5de9-bd86-4f7e-e31e-e4e97642ab9a"
      },
      "execution_count": null,
      "outputs": [
        {
          "output_type": "stream",
          "name": "stdout",
          "text": [
            "Accuracy Scores Test Data: 85.69 (2.11)\n",
            "Recall Scores Test Data: 86.20 (2.83)\n",
            "Precision Scores Test Data: 84.00 (4.04)\n",
            "F1 Scores Test Data: 85.03 (2.85)\n"
          ]
        }
      ]
    },
    {
      "cell_type": "markdown",
      "source": [
        "# Analisa Model"
      ],
      "metadata": {
        "id": "kBZgTNJ_g2lv"
      }
    },
    {
      "cell_type": "markdown",
      "source": [
        "F1 Score dan Recall merupakan metrik yang penting"
      ],
      "metadata": {
        "id": "z2vgwj1RoppO"
      }
    },
    {
      "cell_type": "code",
      "source": [
        "print('Accuracy score of the test data  :', accuracy_score(y_test, y_pred))\n",
        "print('Recall score of the test data    :', recall_score(y_test,y_pred))\n",
        "print('Precision score of the test data :', precision_score(y_test, y_pred))\n",
        "print('F1 score of the test data        :', f1_score(y_test, y_pred))"
      ],
      "metadata": {
        "id": "RWxHCxuhguy6",
        "colab": {
          "base_uri": "https://localhost:8080/"
        },
        "outputId": "edfe4dfc-659c-4a24-d8c4-cdfc46a5ee24"
      },
      "execution_count": null,
      "outputs": [
        {
          "output_type": "stream",
          "name": "stdout",
          "text": [
            "Accuracy score of the test data  : 0.8571428571428571\n",
            "Recall score of the test data    : 0.8714285714285714\n",
            "Precision score of the test data : 0.8356164383561644\n",
            "F1 score of the test data        : 0.8531468531468531\n"
          ]
        }
      ]
    },
    {
      "cell_type": "code",
      "source": [
        "from sklearn.metrics import classification_report\n",
        "print(classification_report(y_test,y_pred))"
      ],
      "metadata": {
        "id": "Us2DGAYjg076",
        "colab": {
          "base_uri": "https://localhost:8080/"
        },
        "outputId": "7138cafe-bb15-4dc7-9420-de4a3421c91d"
      },
      "execution_count": null,
      "outputs": [
        {
          "output_type": "stream",
          "name": "stdout",
          "text": [
            "              precision    recall  f1-score   support\n",
            "\n",
            "           0       0.88      0.84      0.86        77\n",
            "           1       0.84      0.87      0.85        70\n",
            "\n",
            "    accuracy                           0.86       147\n",
            "   macro avg       0.86      0.86      0.86       147\n",
            "weighted avg       0.86      0.86      0.86       147\n",
            "\n"
          ]
        }
      ]
    },
    {
      "cell_type": "code",
      "source": [
        "from sklearn.metrics import confusion_matrix\n",
        "print(confusion_matrix(y_test,y_pred))\n",
        "sns.heatmap(confusion_matrix(y_test,y_pred),annot=True)"
      ],
      "metadata": {
        "id": "G0ze_jsfg2AO",
        "colab": {
          "base_uri": "https://localhost:8080/"
        },
        "outputId": "d0f0eb73-f23b-4ae2-e1dd-384a77cdc2b7"
      },
      "execution_count": null,
      "outputs": [
        {
          "output_type": "stream",
          "name": "stdout",
          "text": [
            "[[65 12]\n",
            " [ 9 61]]\n"
          ]
        },
        {
          "output_type": "execute_result",
          "data": {
            "text/plain": [
              "<matplotlib.axes._subplots.AxesSubplot at 0x7f184dec1a50>"
            ]
          },
          "metadata": {},
          "execution_count": 17
        },
        {
          "output_type": "display_data",
          "data": {
            "text/plain": [
              "<Figure size 432x288 with 2 Axes>"
            ],
            "image/png": "[encoded data removed]"
          },
          "metadata": {
            "needs_background": "light"
          }
        }
      ]
    }
  ]
}