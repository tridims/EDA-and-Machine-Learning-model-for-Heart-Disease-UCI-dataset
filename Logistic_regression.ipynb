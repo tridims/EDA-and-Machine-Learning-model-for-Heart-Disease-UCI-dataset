{
  "cells": [
    {
      "cell_type": "code",
      "execution_count": null,
      "metadata": {
        "id": "oMOIYjEBRABk"
      },
      "outputs": [],
      "source": [
        "import pandas as pd\n",
        "import numpy as np\n",
        "import matplotlib\n",
        "import matplotlib.pyplot as plt\n",
        "import seaborn as sns\n",
        "from numpy import mean\n",
        "from numpy import std\n",
        "from sklearn.model_selection import KFold\n",
        "from sklearn.model_selection import cross_val_score\n",
        "from sklearn.metrics import recall_score\n",
        "from sklearn.metrics import precision_score\n",
        "from sklearn.metrics import f1_score\n",
        "from sklearn.metrics import accuracy_score\n",
        "from sklearn.metrics import roc_auc_score\n",
        "\n",
        "%matplotlib inline\n",
        "sns.set_style('ticks')\n",
        "sns.set_palette('colorblind')\n",
        "from sklearn.model_selection import train_test_split"
      ]
    },
    {
      "cell_type": "code",
      "execution_count": null,
      "metadata": {
        "colab": {
          "base_uri": "https://localhost:8080/"
        },
        "id": "YRiupohlGtWv",
        "outputId": "e0c21fdc-9564-4b19-9eab-00acddb7c4fd"
      },
      "outputs": [
        {
          "name": "stdout",
          "output_type": "stream",
          "text": [
            "Collecting fsspec\n",
            "  Downloading fsspec-2022.2.0-py3-none-any.whl (134 kB)\n",
            "\u001b[?25l\r\u001b[K     |██▍                             | 10 kB 19.5 MB/s eta 0:00:01\r\u001b[K     |████▉                           | 20 kB 10.9 MB/s eta 0:00:01\r\u001b[K     |███████▎                        | 30 kB 8.1 MB/s eta 0:00:01\r\u001b[K     |█████████▊                      | 40 kB 7.1 MB/s eta 0:00:01\r\u001b[K     |████████████▏                   | 51 kB 4.4 MB/s eta 0:00:01\r\u001b[K     |██████████████▋                 | 61 kB 5.2 MB/s eta 0:00:01\r\u001b[K     |█████████████████               | 71 kB 5.3 MB/s eta 0:00:01\r\u001b[K     |███████████████████▍            | 81 kB 5.0 MB/s eta 0:00:01\r\u001b[K     |█████████████████████▉          | 92 kB 5.6 MB/s eta 0:00:01\r\u001b[K     |████████████████████████▎       | 102 kB 5.3 MB/s eta 0:00:01\r\u001b[K     |██████████████████████████▊     | 112 kB 5.3 MB/s eta 0:00:01\r\u001b[K     |█████████████████████████████▏  | 122 kB 5.3 MB/s eta 0:00:01\r\u001b[K     |███████████████████████████████▋| 133 kB 5.3 MB/s eta 0:00:01\r\u001b[K     |████████████████████████████████| 134 kB 5.3 MB/s \n",
            "\u001b[?25hInstalling collected packages: fsspec\n",
            "Successfully installed fsspec-2022.2.0\n"
          ]
        }
      ],
      "source": [
        "!pip install fsspec"
      ]
    },
    {
      "cell_type": "code",
      "execution_count": null,
      "metadata": {
        "id": "MUq2eUXWRm4N"
      },
      "outputs": [],
      "source": [
        "df = pd.read_csv('https://raw.githubusercontent.com/tridims/Project-Internship-BCC/a066cd59ba7af175b8d26bb76839284040987dbb/Dataset/heart_encode.csv')"
      ]
    },
    {
      "cell_type": "code",
      "execution_count": null,
      "metadata": {
        "colab": {
          "base_uri": "https://localhost:8080/"
        },
        "id": "agKOh4yt7yaW",
        "outputId": "5e601e84-ab98-4535-9047-b5cba26817b9"
      },
      "outputs": [
        {
          "name": "stdout",
          "output_type": "stream",
          "text": [
            "<class 'pandas.core.frame.DataFrame'>\n",
            "RangeIndex: 734 entries, 0 to 733\n",
            "Data columns (total 16 columns):\n",
            " #   Column             Non-Null Count  Dtype  \n",
            "---  ------             --------------  -----  \n",
            " 0   Age                734 non-null    int64  \n",
            " 1   RestingBP          734 non-null    float64\n",
            " 2   Cholesterol        734 non-null    int64  \n",
            " 3   FastingBS          734 non-null    int64  \n",
            " 4   RestingECG         734 non-null    int64  \n",
            " 5   MaxHR              734 non-null    int64  \n",
            " 6   ExerciseAngina     734 non-null    int64  \n",
            " 7   Oldpeak            734 non-null    float64\n",
            " 8   ST_Slope           734 non-null    int64  \n",
            " 9   HeartDisease       734 non-null    int64  \n",
            " 10  Sex_F              734 non-null    int64  \n",
            " 11  Sex_M              734 non-null    int64  \n",
            " 12  ChestPainType_ASY  734 non-null    int64  \n",
            " 13  ChestPainType_ATA  734 non-null    int64  \n",
            " 14  ChestPainType_NAP  734 non-null    int64  \n",
            " 15  ChestPainType_TA   734 non-null    int64  \n",
            "dtypes: float64(2), int64(14)\n",
            "memory usage: 91.9 KB\n"
          ]
        }
      ],
      "source": [
        "df.info()"
      ]
    },
    {
      "cell_type": "code",
      "execution_count": null,
      "metadata": {
        "id": "yzLfIHKdj8pI"
      },
      "outputs": [],
      "source": [
        "X = df.drop(['HeartDisease'], axis=1)\n",
        "y = df['HeartDisease']"
      ]
    },
    {
      "cell_type": "markdown",
      "metadata": {
        "id": "ajz5-kGHxmr2"
      },
      "source": [
        "#Pre-processing"
      ]
    },
    {
      "cell_type": "code",
      "execution_count": null,
      "metadata": {
        "id": "i6SISbpLWR_z"
      },
      "outputs": [],
      "source": [
        "X_train, X_test, y_train, y_test = train_test_split(X,y, test_size = 0.2, random_state = 0, stratify=y)"
      ]
    },
    {
      "cell_type": "code",
      "execution_count": null,
      "metadata": {
        "id": "LM7wAq0300bR"
      },
      "outputs": [],
      "source": [
        "X_train=(X_train-np.min(X_train))/(np.max(X_train)-np.min(X_train)).values\n",
        "X_test=(X_test-np.min(X_test))/(np.max(X_test)-np.min(X_test)).values"
      ]
    },
    {
      "cell_type": "markdown",
      "metadata": {
        "id": "IXcJZQkYloaI"
      },
      "source": [
        "# Hyperparameter Tuning"
      ]
    },
    {
      "cell_type": "code",
      "execution_count": null,
      "metadata": {
        "id": "5ji1Fxt27H8n"
      },
      "outputs": [],
      "source": [
        "from hyperopt import tpe\n",
        "from hyperopt import STATUS_OK\n",
        "from hyperopt import Trials\n",
        "from hyperopt import hp\n",
        "from hyperopt import fmin\n",
        "from sklearn.linear_model import LogisticRegression"
      ]
    },
    {
      "cell_type": "code",
      "execution_count": null,
      "metadata": {
        "id": "ByILwcYMlnXj"
      },
      "outputs": [],
      "source": [
        "N_FOLDS = 5\n",
        "MAX_EVALS = 50\n",
        "space = {\n",
        "    'C' : hp.uniform('C', 0.01, 3),\n",
        "    'max_iter' : hp.choice('max_iter', range(5,10000))\n",
        "}"
      ]
    },
    {
      "cell_type": "code",
      "execution_count": null,
      "metadata": {
        "id": "YDsDFViL8-5f"
      },
      "outputs": [],
      "source": [
        "def objective(params, n_folds = N_FOLDS):\n",
        "\n",
        "    clf = LogisticRegression(**params)\n",
        "    scores = cross_val_score(clf, X, y, cv=5, scoring='f1_macro')\n",
        "\n",
        "    # Extract the best score\n",
        "    best_score = max(scores)\n",
        "\n",
        "    # Loss must be minimized\n",
        "    loss = 1 - best_score\n",
        "\n",
        "    # Dictionary with information for evaluation\n",
        "    return {'loss': loss, 'params': params, 'status': STATUS_OK}"
      ]
    },
    {
      "cell_type": "code",
      "execution_count": null,
      "metadata": {
        "id": "YrMYbg50-aVv"
      },
      "outputs": [],
      "source": [
        "# Algorithm\n",
        "tpe_algorithm = tpe.suggest\n",
        "\n",
        "# Trials object to track progress\n",
        "bayes_trials = Trials()\n",
        "\n",
        "# Optimize\n",
        "best = fmin(fn = objective, space = space, algo = tpe.suggest, max_evals = MAX_EVALS, trials = bayes_trials)"
      ]
    },
    {
      "cell_type": "code",
      "execution_count": null,
      "metadata": {
        "colab": {
          "base_uri": "https://localhost:8080/"
        },
        "id": "TDkVj5oY_7Rf",
        "outputId": "5b1e43c4-80e0-43dc-e387-9064a92ba093"
      },
      "outputs": [
        {
          "data": {
            "text/plain": [
              "{'C': 1.621512783822278, 'max_iter': 8262}"
            ]
          },
          "execution_count": 29,
          "metadata": {},
          "output_type": "execute_result"
        }
      ],
      "source": [
        "best"
      ]
    },
    {
      "cell_type": "markdown",
      "metadata": {
        "id": "DjIkDL0Vz64p"
      },
      "source": []
    },
    {
      "cell_type": "code",
      "execution_count": null,
      "metadata": {
        "colab": {
          "base_uri": "https://localhost:8080/"
        },
        "id": "FW4OtBFXYUpD",
        "outputId": "1104148e-a348-4b52-8a8a-f8980ba5db3d"
      },
      "outputs": [
        {
          "data": {
            "text/plain": [
              "LogisticRegression(C=1.621512783822278, max_iter=8262)"
            ]
          },
          "execution_count": 41,
          "metadata": {},
          "output_type": "execute_result"
        }
      ],
      "source": [
        "logre = LogisticRegression(C = 1.621512783822278, max_iter =  8262)\n",
        "logre.fit(X_train,y_train)"
      ]
    },
    {
      "cell_type": "code",
      "execution_count": null,
      "metadata": {
        "id": "c2uXkw1vYglo"
      },
      "outputs": [],
      "source": [
        "y_predsk = logre.predict(X_test)"
      ]
    },
    {
      "cell_type": "code",
      "execution_count": null,
      "metadata": {
        "colab": {
          "base_uri": "https://localhost:8080/"
        },
        "id": "KMCH_kvNKPA0",
        "outputId": "0a937525-fe8f-41d4-892f-198a2cf9d7b0"
      },
      "outputs": [
        {
          "name": "stdout",
          "output_type": "stream",
          "text": [
            "Accuracy: 0.850 (0.044)\n"
          ]
        }
      ],
      "source": [
        "cv = KFold(n_splits=5, shuffle=True)\n",
        "scores = cross_val_score(logre , X, y, scoring='accuracy', cv=cv, n_jobs=-1)\n",
        "# report performance\n",
        "print('Accuracy: %.3f (%.3f)' % (mean(scores), std(scores)))"
      ]
    },
    {
      "cell_type": "code",
      "execution_count": null,
      "metadata": {
        "colab": {
          "base_uri": "https://localhost:8080/"
        },
        "id": "0P4BOyaxYmSx",
        "outputId": "95db6f17-71c8-46e7-a8ae-8f1c1e8d9967"
      },
      "outputs": [
        {
          "name": "stdout",
          "output_type": "stream",
          "text": [
            "0.8571428571428571\n"
          ]
        }
      ],
      "source": [
        "from sklearn.metrics import accuracy_score\n",
        "print(accuracy_score(y_test,y_predsk))"
      ]
    },
    {
      "cell_type": "markdown",
      "metadata": {
        "id": "kFj5oX8zgXWj"
      },
      "source": [
        "#Logistic Regression from scratch"
      ]
    },
    {
      "cell_type": "code",
      "execution_count": null,
      "metadata": {
        "id": "t936kQnhJ7A8"
      },
      "outputs": [],
      "source": [
        "class Logistic_Regression():\n",
        "\n",
        "  # declaring learning rate & epochs (Hyperparametes)\n",
        "  def __init__(self, learning_rate=0.01, epoch=1000):\n",
        "\n",
        "    self.learning_rate = learning_rate\n",
        "    self.epoch = epoch\n",
        "\n",
        "  # fit function to train the model with dataset\n",
        "  def fit(self, X, y):\n",
        "\n",
        "    # jumlah titik data dalam kumpulan data (jumlah baris)  -->  m\n",
        "    # jumlah fitur input dalam dataset (jumlah kolom)  --> n\n",
        "    self.m, self.n = X.shape\n",
        "\n",
        "    #Inisialisasi nilai theta\n",
        "    self.theta = np.zeros(self.n) \n",
        "\n",
        "    self.X = X\n",
        "\n",
        "    self.y = y\n",
        "\n",
        "    # Mengimplementasikan gradient descent \n",
        "    # untuk mengoptimasikan nilai weight dan bias\n",
        "\n",
        "    for i in range(self.epoch):     \n",
        "      self.gradientDescent()\n",
        "\n",
        "  # Fungsi sigmoid\n",
        "  def sigmoidF(self):\n",
        "    return 1 / (1 + np.exp( - (self.X.dot(self.theta)))) \n",
        "\n",
        "  def gradientDescent(self):\n",
        "    # Y_hat formula (sigmoid function)\n",
        "    Y_hat = self.sigmoidF()\n",
        "\n",
        "    \"\"\"\n",
        "    turunan cost function terhadap weight dan bias \n",
        "    untuk diimplementasikan dalam gradient descent \n",
        "    \"\"\"\n",
        "    dT = (1/self.m)*np.dot(self.X.T, (Y_hat - self.y))\n",
        "\n",
        "    # Memperbaharui weight dan bias\n",
        "\n",
        "    self.theta = self.theta - self.learning_rate * dT\n",
        "\n",
        "  # Sigmoid Equation & Decision Boundary\n",
        "  def predict(self, X):\n",
        "    y_pred = 1 / (1 + np.exp(-(X.dot(self.theta))))\n",
        "    y_pred = np.where( y_pred > 0.5, 1, 0)\n",
        "    return y_pred"
      ]
    },
    {
      "cell_type": "markdown",
      "metadata": {
        "id": "mb4Zhk1ViOj6"
      },
      "source": [
        "Memprediksi dengan fungsi sigmoid dan menggunakan Decision boundry dimana jika y_pred > 0.5 maka akan dilabelkan sebagai 1 dan sebaliknya (1 memiliki penyakit jantung dan 0 tidak memiliki penyakit jantung).\n"
      ]
    },
    {
      "cell_type": "code",
      "execution_count": null,
      "metadata": {
        "id": "cDyFFf1p343k"
      },
      "outputs": [],
      "source": [
        "classifier = Logistic_Regression(learning_rate=1.621512783822278, epoch=8262)\n",
        "classifier.fit(X_train, y_train)"
      ]
    },
    {
      "cell_type": "code",
      "execution_count": null,
      "metadata": {
        "id": "s-hHdDrt4GsM"
      },
      "outputs": [],
      "source": [
        "y_pred = classifier.predict(X_test)"
      ]
    },
    {
      "cell_type": "markdown",
      "metadata": {
        "id": "VwN7Gu_eKqCY"
      },
      "source": [
        "#Cross Validation dengan Kfold"
      ]
    },
    {
      "cell_type": "code",
      "execution_count": null,
      "metadata": {
        "id": "eWr0RG_H3NJy"
      },
      "outputs": [],
      "source": [
        "model = Logistic_Regression(learning_rate=1.621512783822278, epoch=8262)"
      ]
    },
    {
      "cell_type": "code",
      "execution_count": null,
      "metadata": {
        "id": "6CgHcdf3KtDJ"
      },
      "outputs": [],
      "source": [
        "kf = KFold(n_splits=5, random_state=0,shuffle=True)\n",
        "scoresAccuracy = []\n",
        "scoresRecall = []\n",
        "scoresPrecision = []\n",
        "scoresF1 = []\n",
        "for train_index, test_index in kf.split(X, y):\n",
        "    x_train, x_test = X.iloc[list(train_index)], X.iloc[list(test_index)]\n",
        "    Y_train, Y_test = y.iloc[list(train_index)], y.iloc[list(test_index)]\n",
        "    x_train=(x_train-np.min(x_train))/(np.max(x_train)-np.min(x_train)).values\n",
        "    x_test=(x_test-np.min(x_test))/(np.max(x_test)-np.min(x_test)).values\n",
        "    model.fit(x_train, Y_train)\n",
        "    y_pred_test = classifier.predict(x_test)\n",
        "    test_data_accuracy = accuracy_score( Y_test, y_pred_test)\n",
        "    test_data_recall = recall_score(Y_test, y_pred_test)\n",
        "    test_data_precision  = precision_score( Y_test, y_pred_test)\n",
        "    test_data_f1_score  = f1_score( Y_test, y_pred_test)\n",
        "    scoresAccuracy.append(test_data_accuracy)\n",
        "    scoresRecall.append(test_data_recall)\n",
        "    scoresPrecision.append(test_data_precision)\n",
        "    scoresF1.append(test_data_f1_score)\n"
      ]
    },
    {
      "cell_type": "code",
      "execution_count": null,
      "metadata": {
        "colab": {
          "base_uri": "https://localhost:8080/"
        },
        "id": "PJz4PckiMg3Y",
        "outputId": "be154d8d-70b9-485c-cfd0-387b95e8bf68"
      },
      "outputs": [
        {
          "name": "stdout",
          "output_type": "stream",
          "text": [
            "Accuracy Scores Test Data: 85.69 (2.11)\n",
            "Recall Scores Test Data: 86.20 (2.83)\n",
            "Precision Scores Test Data: 84.00 (4.04)\n",
            "F1 Scores Test Data: 85.03 (2.85)\n"
          ]
        }
      ],
      "source": [
        "print('Accuracy Scores Test Data: %.2f (%.2f)' % (mean(scoresAccuracy)*100, std(scoresAccuracy)*100))\n",
        "print('Recall Scores Test Data: %.2f (%.2f)' % (mean(scoresRecall)*100, std(scoresRecall)*100))\n",
        "print('Precision Scores Test Data: %.2f (%.2f)' % (mean(scoresPrecision)*100, std(scoresPrecision)*100))\n",
        "print('F1 Scores Test Data: %.2f (%.2f)' % (mean(scoresF1)*100, std(scoresF1)*100))"
      ]
    },
    {
      "cell_type": "markdown",
      "metadata": {
        "id": "kBZgTNJ_g2lv"
      },
      "source": [
        "# Analisa Model"
      ]
    },
    {
      "cell_type": "markdown",
      "metadata": {
        "id": "z2vgwj1RoppO"
      },
      "source": [
        "F1 Score dan Recall merupakan metrik yang penting"
      ]
    },
    {
      "cell_type": "code",
      "execution_count": null,
      "metadata": {
        "colab": {
          "base_uri": "https://localhost:8080/"
        },
        "id": "RWxHCxuhguy6",
        "outputId": "015413ed-8ff4-472b-98d0-03a77cdc309e"
      },
      "outputs": [
        {
          "name": "stdout",
          "output_type": "stream",
          "text": [
            "Accuracy score of the test data  : 0.8571428571428571\n",
            "Recall score of the test data    : 0.8714285714285714\n",
            "Precision score of the test data : 0.8356164383561644\n",
            "F1 score of the test data        : 0.8531468531468531\n"
          ]
        }
      ],
      "source": [
        "print('Accuracy score of the test data  :', accuracy_score(y_test, y_pred))\n",
        "print('Recall score of the test data    :', recall_score(y_test,y_pred))\n",
        "print('Precision score of the test data :', precision_score(y_test, y_pred))\n",
        "print('F1 score of the test data        :', f1_score(y_test, y_pred))"
      ]
    },
    {
      "cell_type": "code",
      "execution_count": null,
      "metadata": {
        "colab": {
          "base_uri": "https://localhost:8080/"
        },
        "id": "Us2DGAYjg076",
        "outputId": "3dfaa1cc-073a-4716-c10c-cf40b4309f39"
      },
      "outputs": [
        {
          "name": "stdout",
          "output_type": "stream",
          "text": [
            "              precision    recall  f1-score   support\n",
            "\n",
            "           0       0.88      0.84      0.86        77\n",
            "           1       0.84      0.87      0.85        70\n",
            "\n",
            "    accuracy                           0.86       147\n",
            "   macro avg       0.86      0.86      0.86       147\n",
            "weighted avg       0.86      0.86      0.86       147\n",
            "\n"
          ]
        }
      ],
      "source": [
        "from sklearn.metrics import classification_report\n",
        "print(classification_report(y_test,y_pred))"
      ]
    },
    {
      "cell_type": "code",
      "execution_count": null,
      "metadata": {
        "colab": {
          "base_uri": "https://localhost:8080/",
          "height": 316
        },
        "id": "G0ze_jsfg2AO",
        "outputId": "767c6865-7eeb-4fe5-98c0-e21e96d023a7"
      },
      "outputs": [
        {
          "name": "stdout",
          "output_type": "stream",
          "text": [
            "[[65 12]\n",
            " [ 9 61]]\n"
          ]
        },
        {
          "data": {
            "text/plain": [
              "<matplotlib.axes._subplots.AxesSubplot at 0x7fb724711510>"
            ]
          },
          "execution_count": 53,
          "metadata": {},
          "output_type": "execute_result"
        },
        {
          "data": {
            "image/png": "[encoded data removed]",
            "text/plain": [
              "<Figure size 432x288 with 2 Axes>"
            ]
          },
          "metadata": {},
          "output_type": "display_data"
        }
      ],
      "source": [
        "from sklearn.metrics import confusion_matrix\n",
        "print(confusion_matrix(y_test,y_pred))\n",
        "labels = [\"True Neg\",\"False Pos\",\"False Neg\",\"True Pos\"]\n",
        "labels = np.asarray(labels).reshape(2,2)\n",
        "sns.heatmap(confusion_matrix(y_test,y_pred), annot=labels, fmt=\"\")"
      ]
    }
  ],
  "metadata": {
    "colab": {
      "collapsed_sections": [],
      "name": "Optimasi Logistic_regression.ipynb",
      "provenance": []
    },
    "kernelspec": {
      "display_name": "Python 3",
      "name": "python3"
    },
    "language_info": {
      "name": "python",
      "version": "3.9.7"
    }
  },
  "nbformat": 4,
  "nbformat_minor": 0
}
