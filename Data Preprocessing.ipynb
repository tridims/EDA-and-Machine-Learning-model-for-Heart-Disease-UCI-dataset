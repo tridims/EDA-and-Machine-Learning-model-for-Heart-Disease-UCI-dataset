{
 "cells": [
  {
   "cell_type": "code",
   "execution_count": 1,
   "metadata": {},
   "outputs": [],
   "source": [
    "import pandas as pd\n",
    "import numpy as np\n",
    "import matplotlib\n",
    "import matplotlib.pyplot as plt\n",
    "import seaborn as sns\n",
    "from sklearn import preprocessing\n",
    "from sklearn.impute import *\n",
    "%matplotlib inline\n",
    "\n",
    "sns.set_style('ticks')\n",
    "sns.set_palette('colorblind')"
   ]
  },
  {
   "cell_type": "markdown",
   "metadata": {},
   "source": [
    "# Import and read dataset"
   ]
  },
  {
   "cell_type": "code",
   "execution_count": 3,
   "metadata": {
    "colab": {
     "base_uri": "https://localhost:8080/",
     "height": 0
    },
    "executionInfo": {
     "elapsed": 3127,
     "status": "ok",
     "timestamp": 1646305002324,
     "user": {
      "displayName": "Dzaki Rafif Malik",
      "photoUrl": "https://lh3.googleusercontent.com/a/default-user=s64",
      "userId": "08383112644596132886"
     },
     "user_tz": -420
    },
    "id": "Yr9oneutUBct",
    "outputId": "48754fde-d14c-4186-b2e4-0766831f0bfb"
   },
   "outputs": [],
   "source": [
    "# Life Expectancy (WHO)\n",
    "df = pd.read_csv(\"heart.csv\")"
   ]
  },
  {
   "cell_type": "code",
   "execution_count": 38,
   "metadata": {},
   "outputs": [
    {
     "data": {
      "text/html": [
       "<div>\n",
       "<style scoped>\n",
       "    .dataframe tbody tr th:only-of-type {\n",
       "        vertical-align: middle;\n",
       "    }\n",
       "\n",
       "    .dataframe tbody tr th {\n",
       "        vertical-align: top;\n",
       "    }\n",
       "\n",
       "    .dataframe thead th {\n",
       "        text-align: right;\n",
       "    }\n",
       "</style>\n",
       "<table border=\"1\" class=\"dataframe\">\n",
       "  <thead>\n",
       "    <tr style=\"text-align: right;\">\n",
       "      <th></th>\n",
       "      <th>Age</th>\n",
       "      <th>Sex</th>\n",
       "      <th>ChestPainType</th>\n",
       "      <th>RestingBP</th>\n",
       "      <th>Cholesterol</th>\n",
       "      <th>FastingBS</th>\n",
       "      <th>RestingECG</th>\n",
       "      <th>MaxHR</th>\n",
       "      <th>ExerciseAngina</th>\n",
       "      <th>Oldpeak</th>\n",
       "      <th>ST_Slope</th>\n",
       "      <th>HeartDisease</th>\n",
       "    </tr>\n",
       "  </thead>\n",
       "  <tbody>\n",
       "    <tr>\n",
       "      <th>0</th>\n",
       "      <td>40</td>\n",
       "      <td>M</td>\n",
       "      <td>ATA</td>\n",
       "      <td>140</td>\n",
       "      <td>289</td>\n",
       "      <td>0</td>\n",
       "      <td>Normal</td>\n",
       "      <td>172</td>\n",
       "      <td>N</td>\n",
       "      <td>0.0</td>\n",
       "      <td>Up</td>\n",
       "      <td>0</td>\n",
       "    </tr>\n",
       "    <tr>\n",
       "      <th>1</th>\n",
       "      <td>49</td>\n",
       "      <td>F</td>\n",
       "      <td>NAP</td>\n",
       "      <td>160</td>\n",
       "      <td>180</td>\n",
       "      <td>0</td>\n",
       "      <td>Normal</td>\n",
       "      <td>156</td>\n",
       "      <td>N</td>\n",
       "      <td>1.0</td>\n",
       "      <td>Flat</td>\n",
       "      <td>1</td>\n",
       "    </tr>\n",
       "    <tr>\n",
       "      <th>2</th>\n",
       "      <td>37</td>\n",
       "      <td>M</td>\n",
       "      <td>ATA</td>\n",
       "      <td>130</td>\n",
       "      <td>283</td>\n",
       "      <td>0</td>\n",
       "      <td>ST</td>\n",
       "      <td>98</td>\n",
       "      <td>N</td>\n",
       "      <td>0.0</td>\n",
       "      <td>Up</td>\n",
       "      <td>0</td>\n",
       "    </tr>\n",
       "    <tr>\n",
       "      <th>3</th>\n",
       "      <td>48</td>\n",
       "      <td>F</td>\n",
       "      <td>ASY</td>\n",
       "      <td>138</td>\n",
       "      <td>214</td>\n",
       "      <td>0</td>\n",
       "      <td>Normal</td>\n",
       "      <td>108</td>\n",
       "      <td>Y</td>\n",
       "      <td>1.5</td>\n",
       "      <td>Flat</td>\n",
       "      <td>1</td>\n",
       "    </tr>\n",
       "    <tr>\n",
       "      <th>4</th>\n",
       "      <td>54</td>\n",
       "      <td>M</td>\n",
       "      <td>NAP</td>\n",
       "      <td>150</td>\n",
       "      <td>195</td>\n",
       "      <td>0</td>\n",
       "      <td>Normal</td>\n",
       "      <td>122</td>\n",
       "      <td>N</td>\n",
       "      <td>0.0</td>\n",
       "      <td>Up</td>\n",
       "      <td>0</td>\n",
       "    </tr>\n",
       "  </tbody>\n",
       "</table>\n",
       "</div>"
      ],
      "text/plain": [
       "   Age Sex ChestPainType  RestingBP  Cholesterol  FastingBS RestingECG  MaxHR  \\\n",
       "0   40   M           ATA        140          289          0     Normal    172   \n",
       "1   49   F           NAP        160          180          0     Normal    156   \n",
       "2   37   M           ATA        130          283          0         ST     98   \n",
       "3   48   F           ASY        138          214          0     Normal    108   \n",
       "4   54   M           NAP        150          195          0     Normal    122   \n",
       "\n",
       "  ExerciseAngina  Oldpeak ST_Slope  HeartDisease  \n",
       "0              N      0.0       Up             0  \n",
       "1              N      1.0     Flat             1  \n",
       "2              N      0.0       Up             0  \n",
       "3              Y      1.5     Flat             1  \n",
       "4              N      0.0       Up             0  "
      ]
     },
     "execution_count": 38,
     "metadata": {},
     "output_type": "execute_result"
    }
   ],
   "source": [
    "df.head()"
   ]
  },
  {
   "cell_type": "markdown",
   "metadata": {},
   "source": [
    "# Dropping Feature"
   ]
  },
  {
   "cell_type": "code",
   "execution_count": 5,
   "metadata": {},
   "outputs": [],
   "source": [
    "# keknya bisa drop fitur RestingECG, Sex, FastingBS\n",
    "feature = ['RestingECG', 'Sex', 'FastingBS']\n",
    "df_DF = df.drop(feature, axis=1)"
   ]
  },
  {
   "cell_type": "markdown",
   "metadata": {},
   "source": [
    "## Outlier, missing value, etc"
   ]
  },
  {
   "cell_type": "code",
   "execution_count": 6,
   "metadata": {},
   "outputs": [],
   "source": [
    "df_modifiedOutlier = df.copy()\n",
    "df_deleteOutlier = df.copy()\n",
    "\n",
    "df_DF_modifiedOutlier = df_DF.copy()\n",
    "df_DF_deleteOutlier = df_DF.copy()"
   ]
  },
  {
   "cell_type": "code",
   "execution_count": 7,
   "metadata": {},
   "outputs": [],
   "source": [
    "# Outlier detection using interquartile range\n",
    "\n",
    "def detect_outliers_iqr(data):\n",
    "    outliers = []\n",
    "    data = sorted(data)\n",
    "    q1 = np.percentile(data, 25)\n",
    "    q3 = np.percentile(data, 75)\n",
    "    IQR = q3-q1\n",
    "    lwr_bound = q1-(1.5*IQR)\n",
    "    upr_bound = q3+(1.5*IQR)\n",
    "    for i in data: \n",
    "        if (i<lwr_bound or i>upr_bound):\n",
    "            outliers.append(i)\n",
    "    return outliers\n",
    "\n",
    "RestingBP_outliers = detect_outliers_iqr(df['RestingBP'])\n",
    "Cholesterol_outliers = detect_outliers_iqr(df['Cholesterol'])\n",
    "MaxHR_outliers = detect_outliers_iqr(df['MaxHR'])\n",
    "Oldpeak_outliers = detect_outliers_iqr(df['Oldpeak'])"
   ]
  },
  {
   "cell_type": "code",
   "execution_count": 8,
   "metadata": {},
   "outputs": [
    {
     "name": "stdout",
     "output_type": "stream",
     "text": [
      "Outliers in RestingBP: \n",
      " [0, 80, 172, 172, 174, 178, 178, 178, 180, 180, 180, 180, 180, 180, 180, 180, 180, 180, 180, 180, 185, 190, 190, 192, 200, 200, 200, 200] \n",
      "\n",
      "Outliers in Cholesterol: \n",
      " [0, 0, 0, 0, 0, 0, 0, 0, 0, 0, 0, 0, 0, 0, 0, 0, 0, 0, 0, 0, 0, 0, 0, 0, 0, 0, 0, 0, 0, 0, 0, 0, 0, 0, 0, 0, 0, 0, 0, 0, 0, 0, 0, 0, 0, 0, 0, 0, 0, 0, 0, 0, 0, 0, 0, 0, 0, 0, 0, 0, 0, 0, 0, 0, 0, 0, 0, 0, 0, 0, 0, 0, 0, 0, 0, 0, 0, 0, 0, 0, 0, 0, 0, 0, 0, 0, 0, 0, 0, 0, 0, 0, 0, 0, 0, 0, 0, 0, 0, 0, 0, 0, 0, 0, 0, 0, 0, 0, 0, 0, 0, 0, 0, 0, 0, 0, 0, 0, 0, 0, 0, 0, 0, 0, 0, 0, 0, 0, 0, 0, 0, 0, 0, 0, 0, 0, 0, 0, 0, 0, 0, 0, 0, 0, 0, 0, 0, 0, 0, 0, 0, 0, 0, 0, 0, 0, 0, 0, 0, 0, 0, 0, 0, 0, 0, 0, 0, 0, 0, 0, 0, 0, 409, 412, 417, 458, 466, 468, 491, 518, 529, 564, 603] \n",
      "\n",
      "Outliers in MaxHR: \n",
      " [60, 63] \n",
      "\n",
      "Outliers in Oldpeak: \n",
      " [-2.6, 3.8, 4.0, 4.0, 4.0, 4.0, 4.0, 4.0, 4.0, 4.0, 4.2, 4.2, 4.4, 5.0, 5.6, 6.2] \n",
      "\n"
     ]
    }
   ],
   "source": [
    "print(\"Outliers in RestingBP: \\n\", RestingBP_outliers, \"\\n\")\n",
    "print(\"Outliers in Cholesterol: \\n\", Cholesterol_outliers, \"\\n\")\n",
    "print(\"Outliers in MaxHR: \\n\", MaxHR_outliers, \"\\n\")\n",
    "print(\"Outliers in Oldpeak: \\n\", Oldpeak_outliers, \"\\n\")"
   ]
  },
  {
   "cell_type": "code",
   "execution_count": 9,
   "metadata": {},
   "outputs": [],
   "source": [
    "# modify Outlier\n",
    "def mod_outlier(dataset):\n",
    "  dataset['MaxHR'] = dataset['MaxHR'].replace([63, 60], [220 - 60, 220 - 51]) # Replace MaxHR outlier dengan 220 dikurang umur\n",
    "  dataset['RestingBP'] = dataset['RestingBP'].replace(0, dataset['RestingBP'].mean())\n",
    "  dataset = dataset[~dataset.Cholesterol.isin(Cholesterol_outliers)] # drop\n",
    "  dataset = dataset[dataset.Oldpeak >= 0] # drop minus value\n",
    "  return dataset\n",
    "\n",
    "df_modifiedOutlier = mod_outlier(df_modifiedOutlier)\n",
    "df_DF_modifiedOutlier = mod_outlier(df_DF_modifiedOutlier)"
   ]
  },
  {
   "cell_type": "code",
   "execution_count": 10,
   "metadata": {},
   "outputs": [],
   "source": [
    "# remove all outlier\n",
    "def remove_outlier(dataset):\n",
    "  dataset = dataset[~dataset.Cholesterol.isin(Cholesterol_outliers)]\n",
    "  dataset = dataset[~dataset.Oldpeak.isin(Oldpeak_outliers)]\n",
    "  dataset = dataset[dataset.Oldpeak >= 0]\n",
    "  dataset = dataset[~dataset.MaxHR.isin(MaxHR_outliers)]\n",
    "  dataset = dataset[~dataset.RestingBP.isin(RestingBP_outliers)]\n",
    "  return dataset\n",
    "\n",
    "df_deleteOutlier = remove_outlier(df_deleteOutlier)\n",
    "df_DF_deleteOutlier = remove_outlier(df_DF_deleteOutlier)"
   ]
  },
  {
   "cell_type": "markdown",
   "metadata": {},
   "source": [
    "## Encoding"
   ]
  },
  {
   "cell_type": "code",
   "execution_count": 11,
   "metadata": {},
   "outputs": [],
   "source": [
    "# create a copy\n",
    "\n",
    "df_encoded = df.copy()\n",
    "df_modifiedOutlier_encoded = df_modifiedOutlier.copy()\n",
    "df_deleteOutlier_encoded = df_deleteOutlier.copy()\n",
    "\n",
    "df_DF_encoded = df_DF.copy()\n",
    "df_DF_modifiedOutlier_encoded = df_DF_modifiedOutlier.copy()\n",
    "df_DF_deleteOutlier_encoded = df_DF_deleteOutlier.copy()"
   ]
  },
  {
   "cell_type": "markdown",
   "metadata": {},
   "source": [
    "#### Label encoder\n",
    "\n",
    "target : 'RestingECG', 'ExerciseAngina', 'ST_Slope'"
   ]
  },
  {
   "cell_type": "code",
   "execution_count": 12,
   "metadata": {},
   "outputs": [],
   "source": [
    "label_encoder = preprocessing.LabelEncoder()\n",
    "\n",
    "def label_encode_data(dataset, cols):\n",
    "  for columns in cols:\n",
    "    dataset[columns] = label_encoder.fit_transform(dataset[columns])"
   ]
  },
  {
   "cell_type": "code",
   "execution_count": 13,
   "metadata": {},
   "outputs": [],
   "source": [
    "label_encode_data(df_encoded, ['RestingECG', 'ExerciseAngina', 'ST_Slope'])\n",
    "label_encode_data(df_modifiedOutlier_encoded, ['RestingECG', 'ExerciseAngina', 'ST_Slope'])\n",
    "label_encode_data(df_deleteOutlier_encoded, ['RestingECG', 'ExerciseAngina', 'ST_Slope'])\n",
    "\n",
    "label_encode_data(df_DF_encoded, ['ExerciseAngina', 'ST_Slope'])\n",
    "label_encode_data(df_DF_modifiedOutlier_encoded, ['ExerciseAngina', 'ST_Slope'])\n",
    "label_encode_data(df_DF_deleteOutlier_encoded, ['ExerciseAngina', 'ST_Slope'])"
   ]
  },
  {
   "cell_type": "markdown",
   "metadata": {},
   "source": [
    "#### One hot encoding\n",
    "\n",
    "targetnya : 'Sex', 'ChestPainType'"
   ]
  },
  {
   "cell_type": "code",
   "execution_count": 14,
   "metadata": {},
   "outputs": [],
   "source": [
    "# create function to one hot encoding dataset on columns\n",
    "def onehot_encode_data(dataset, cols):\n",
    "  for columns in cols:\n",
    "    dataset = pd.concat([dataset, pd.get_dummies(dataset[columns], prefix=columns)], axis=1)\n",
    "    dataset = dataset.drop(columns, axis=1)\n",
    "  return dataset\n"
   ]
  },
  {
   "cell_type": "code",
   "execution_count": 15,
   "metadata": {},
   "outputs": [],
   "source": [
    "df_encoded = onehot_encode_data(df_encoded, ['Sex', 'ChestPainType'])\n",
    "df_modifiedOutlier_encoded = onehot_encode_data(df_modifiedOutlier_encoded, ['Sex', 'ChestPainType'])\n",
    "df_deleteOutlier_encoded = onehot_encode_data(df_deleteOutlier_encoded, ['Sex', 'ChestPainType'])"
   ]
  },
  {
   "cell_type": "code",
   "execution_count": 16,
   "metadata": {},
   "outputs": [],
   "source": [
    "df_DF_encoded = onehot_encode_data(df_DF_encoded, ['ChestPainType'])\n",
    "df_DF_deleteOutlier_encoded = onehot_encode_data(df_DF_deleteOutlier_encoded, ['ChestPainType'])\n",
    "df_DF_modifiedOutlier_encoded = onehot_encode_data(df_DF_modifiedOutlier_encoded, ['ChestPainType'])"
   ]
  },
  {
   "cell_type": "markdown",
   "metadata": {},
   "source": [
    "## Splitting dataset"
   ]
  },
  {
   "cell_type": "code",
   "execution_count": 17,
   "metadata": {},
   "outputs": [],
   "source": [
    "from sklearn.model_selection import train_test_split\n",
    "\n",
    "df_encoded_splitTrain, df_encoded_splitTest = train_test_split(df_encoded, test_size=0.2, random_state=0)\n",
    "df_modifiedOutlier_encoded_splitTrain, df_modifiedOutlier_encoded_splitTest = train_test_split(df_modifiedOutlier_encoded, test_size=0.2, random_state=0)\n",
    "df_deleteOutlier_encoded_splitTrain, df_deleteOutlier_encoded_splitTest = train_test_split(df_deleteOutlier_encoded, test_size=0.2, random_state=0)\n",
    "\n",
    "df_DF_encoded_splitTrain, df_DF_encoded_splitTest = train_test_split(df_DF_encoded, test_size=0.2, random_state=0)\n",
    "df_DF_modifiedOutlier_encoded_splitTrain, df_DF_modifiedOutlier_encoded_splitTest = train_test_split(df_DF_modifiedOutlier_encoded, test_size=0.2, random_state=0)\n",
    "df_DF_deleteOutlier_encoded_splitTrain, df_DF_deleteOutlier_encoded_splitTest = train_test_split(df_DF_deleteOutlier_encoded, test_size=0.2, random_state=0)"
   ]
  },
  {
   "cell_type": "markdown",
   "metadata": {},
   "source": [
    "# Scaling"
   ]
  },
  {
   "cell_type": "markdown",
   "metadata": {},
   "source": [
    "### min-max"
   ]
  },
  {
   "cell_type": "code",
   "execution_count": 18,
   "metadata": {},
   "outputs": [],
   "source": [
    "df_encoded_splitTrain_minmaxScaled = df_encoded_splitTrain.copy()\n",
    "df_modifiedOutlier_encoded_splitTrain_minmaxScaled = df_modifiedOutlier_encoded_splitTrain.copy()\n",
    "df_deleteOutlier_encoded_splitTrain_minmaxScaled = df_deleteOutlier_encoded_splitTrain.copy()\n",
    "\n",
    "df_encoded_splitTest_minmaxScaled = df_encoded_splitTest.copy()\n",
    "df_modifiedOutlier_encoded_splitTest_minmaxScaled = df_modifiedOutlier_encoded_splitTest.copy()\n",
    "df_deleteOutlier_encoded_splitTest_minmaxScaled = df_deleteOutlier_encoded_splitTest.copy()\n",
    "\n",
    "\n",
    "df_DF_encoded_splitTrain_minmaxScaled = df_DF_encoded_splitTrain.copy()\n",
    "df_DF_modifiedOutlier_encoded_splitTrain_minmaxScaled = df_DF_modifiedOutlier_encoded_splitTrain.copy()\n",
    "df_DF_deleteOutlier_encoded_splitTrain_minmaxScaled = df_DF_deleteOutlier_encoded_splitTrain.copy()\n",
    "\n",
    "df_DF_encoded_splitTest_minmaxScaled = df_DF_encoded_splitTest.copy()\n",
    "df_DF_modifiedOutlier_encoded_splitTest_minmaxScaled = df_DF_modifiedOutlier_encoded_splitTest.copy()\n",
    "df_DF_deleteOutlier_encoded_splitTest_minmaxScaled = df_DF_deleteOutlier_encoded_splitTest.copy()"
   ]
  },
  {
   "cell_type": "code",
   "execution_count": 19,
   "metadata": {},
   "outputs": [],
   "source": [
    "from sklearn.preprocessing import MinMaxScaler\n",
    "\n",
    "def minmax_scale_data(dataset):\n",
    "  scaler = MinMaxScaler()\n",
    "  df_scaled = scaler.fit_transform(dataset)\n",
    "  df_scaled = pd.DataFrame(df_scaled, columns=dataset.columns)\n",
    "  return df_scaled"
   ]
  },
  {
   "cell_type": "code",
   "execution_count": 20,
   "metadata": {},
   "outputs": [],
   "source": [
    "df_encoded_splitTrain_minmaxScaled = minmax_scale_data(df_encoded_splitTrain_minmaxScaled)\n",
    "df_modifiedOutlier_encoded_splitTrain_minmaxScaled = minmax_scale_data(df_modifiedOutlier_encoded_splitTrain_minmaxScaled)\n",
    "df_deleteOutlier_encoded_splitTrain_minmaxScaled = minmax_scale_data(df_deleteOutlier_encoded_splitTrain_minmaxScaled)\n",
    "\n",
    "df_encoded_splitTest_minmaxScaled = minmax_scale_data(df_encoded_splitTest_minmaxScaled)\n",
    "df_modifiedOutlier_encoded_splitTest_minmaxScaled = minmax_scale_data(df_modifiedOutlier_encoded_splitTest_minmaxScaled)\n",
    "df_deleteOutlier_encoded_splitTest_minmaxScaled = minmax_scale_data(df_deleteOutlier_encoded_splitTest_minmaxScaled)\n",
    "\n",
    "\n",
    "df_DF_encoded_splitTrain_minmaxScaled = minmax_scale_data(df_DF_encoded_splitTrain_minmaxScaled)\n",
    "df_DF_modifiedOutlier_encoded_splitTrain_minmaxScaled = minmax_scale_data(df_DF_modifiedOutlier_encoded_splitTrain_minmaxScaled)\n",
    "df_DF_deleteOutlier_encoded_splitTrain_minmaxScaled = minmax_scale_data(df_DF_deleteOutlier_encoded_splitTrain_minmaxScaled)\n",
    "\n",
    "df_DF_encoded_splitTest_minmaxScaled = minmax_scale_data(df_DF_encoded_splitTest_minmaxScaled)\n",
    "df_DF_modifiedOutlier_encoded_splitTest_minmaxScaled = minmax_scale_data(df_DF_modifiedOutlier_encoded_splitTest_minmaxScaled)\n",
    "df_DF_deleteOutlier_encoded_splitTest_minmaxScaled = minmax_scale_data(df_DF_deleteOutlier_encoded_splitTest_minmaxScaled)"
   ]
  },
  {
   "cell_type": "markdown",
   "metadata": {},
   "source": [
    "### Standard Scaler"
   ]
  },
  {
   "cell_type": "code",
   "execution_count": 21,
   "metadata": {},
   "outputs": [],
   "source": [
    "df_encoded_splitTrain_stdScaled = df_encoded_splitTrain.copy()\n",
    "df_modifiedOutlier_encoded_splitTrain_stdScaled = df_modifiedOutlier_encoded_splitTrain.copy()\n",
    "df_deleteOutlier_encoded_splitTrain_stdScaled = df_deleteOutlier_encoded_splitTrain.copy()\n",
    "df_encoded_splitTest_stdScaled = df_encoded_splitTest.copy()\n",
    "df_modifiedOutlier_encoded_splitTest_stdScaled = df_modifiedOutlier_encoded_splitTest.copy()\n",
    "df_deleteOutlier_encoded_splitTest_stdScaled = df_deleteOutlier_encoded_splitTest.copy()\n",
    "\n",
    "df_DF_encoded_splitTrain_stdScaled = df_DF_encoded_splitTrain.copy()\n",
    "df_DF_modifiedOutlier_encoded_splitTrain_stdScaled = df_DF_modifiedOutlier_encoded_splitTrain.copy()\n",
    "df_DF_deleteOutlier_encoded_splitTrain_stdScaled = df_DF_deleteOutlier_encoded_splitTrain.copy()\n",
    "df_DF_encoded_splitTest_stdScaled = df_DF_encoded_splitTest.copy()\n",
    "df_DF_modifiedOutlier_encoded_splitTest_stdScaled = df_DF_modifiedOutlier_encoded_splitTest.copy()\n",
    "df_DF_deleteOutlier_encoded_splitTest_stdScaled = df_DF_deleteOutlier_encoded_splitTest.copy()"
   ]
  },
  {
   "cell_type": "code",
   "execution_count": 22,
   "metadata": {},
   "outputs": [],
   "source": [
    "# import standard scaler\n",
    "from sklearn.preprocessing import StandardScaler\n",
    "\n",
    "def std_scale_data(dataset):\n",
    "  scaler = StandardScaler()\n",
    "  df_scaled_std = scaler.fit_transform(dataset)\n",
    "  df_scaled_std = pd.DataFrame(df_scaled_std, columns=dataset.columns)\n",
    "  return df_scaled_std"
   ]
  },
  {
   "cell_type": "code",
   "execution_count": 23,
   "metadata": {},
   "outputs": [],
   "source": [
    "df_encoded_splitTrain_stdScaled = std_scale_data(df_encoded_splitTrain_stdScaled)\n",
    "df_modifiedOutlier_encoded_splitTrain_stdScaled = std_scale_data(df_modifiedOutlier_encoded_splitTrain_stdScaled)\n",
    "df_deleteOutlier_encoded_splitTrain_stdScaled = std_scale_data(df_deleteOutlier_encoded_splitTrain_stdScaled)\n",
    "df_encoded_splitTest_stdScaled = std_scale_data(df_encoded_splitTest_stdScaled)\n",
    "df_modifiedOutlier_encoded_splitTest_stdScaled = std_scale_data(df_modifiedOutlier_encoded_splitTest_stdScaled)\n",
    "df_deleteOutlier_encoded_splitTest_stdScaled = std_scale_data(df_deleteOutlier_encoded_splitTest_stdScaled)\n",
    "\n",
    "df_DF_encoded_splitTrain_stdScaled = std_scale_data(df_DF_encoded_splitTrain_stdScaled)\n",
    "df_DF_modifiedOutlier_encoded_splitTrain_stdScaled = std_scale_data(df_DF_modifiedOutlier_encoded_splitTrain_stdScaled)\n",
    "df_DF_deleteOutlier_encoded_splitTrain_stdScaled = std_scale_data(df_DF_deleteOutlier_encoded_splitTrain_stdScaled)\n",
    "df_DF_encoded_splitTest_stdScaled = std_scale_data(df_DF_encoded_splitTest_stdScaled)\n",
    "df_DF_modifiedOutlier_encoded_splitTest_stdScaled = std_scale_data(df_DF_modifiedOutlier_encoded_splitTest_stdScaled)\n",
    "df_DF_deleteOutlier_encoded_splitTest_stdScaled = std_scale_data(df_DF_deleteOutlier_encoded_splitTest_stdScaled)"
   ]
  },
  {
   "cell_type": "code",
   "execution_count": 27,
   "metadata": {},
   "outputs": [],
   "source": [
    "# import knn from sklearn\n",
    "from sklearn.neighbors import KNeighborsClassifier\n",
    "\n",
    "# train model with df_DF_encoded_splitTrain_stdScaled\n",
    "knn_model = KNeighborsClassifier(n_neighbors=5)\n",
    "knn_model.fit(df_DF_encoded_splitTrain_stdScaled.astype('int'), df_DF_encoded_splitTrain_stdScaled['HeartDisease'].astype('int'))\n",
    "\n",
    "# predict class for df_DF_encoded_splitTest_stdScaled\n",
    "predicted_class = knn_model.predict(df_DF_encoded_splitTest_stdScaled)"
   ]
  },
  {
   "cell_type": "code",
   "execution_count": 33,
   "metadata": {},
   "outputs": [
    {
     "data": {
      "text/html": [
       "<div>\n",
       "<style scoped>\n",
       "    .dataframe tbody tr th:only-of-type {\n",
       "        vertical-align: middle;\n",
       "    }\n",
       "\n",
       "    .dataframe tbody tr th {\n",
       "        vertical-align: top;\n",
       "    }\n",
       "\n",
       "    .dataframe thead th {\n",
       "        text-align: right;\n",
       "    }\n",
       "</style>\n",
       "<table border=\"1\" class=\"dataframe\">\n",
       "  <thead>\n",
       "    <tr style=\"text-align: right;\">\n",
       "      <th></th>\n",
       "      <th>Age</th>\n",
       "      <th>RestingBP</th>\n",
       "      <th>Cholesterol</th>\n",
       "      <th>MaxHR</th>\n",
       "      <th>ExerciseAngina</th>\n",
       "      <th>Oldpeak</th>\n",
       "      <th>ST_Slope</th>\n",
       "      <th>HeartDisease</th>\n",
       "      <th>ChestPainType_ASY</th>\n",
       "      <th>ChestPainType_ATA</th>\n",
       "      <th>ChestPainType_NAP</th>\n",
       "      <th>ChestPainType_TA</th>\n",
       "    </tr>\n",
       "  </thead>\n",
       "  <tbody>\n",
       "    <tr>\n",
       "      <th>0</th>\n",
       "      <td>1</td>\n",
       "      <td>0</td>\n",
       "      <td>-1</td>\n",
       "      <td>0</td>\n",
       "      <td>1</td>\n",
       "      <td>1</td>\n",
       "      <td>0</td>\n",
       "      <td>0</td>\n",
       "      <td>0</td>\n",
       "      <td>0</td>\n",
       "      <td>0</td>\n",
       "      <td>0</td>\n",
       "    </tr>\n",
       "    <tr>\n",
       "      <th>1</th>\n",
       "      <td>0</td>\n",
       "      <td>0</td>\n",
       "      <td>-1</td>\n",
       "      <td>0</td>\n",
       "      <td>1</td>\n",
       "      <td>0</td>\n",
       "      <td>0</td>\n",
       "      <td>0</td>\n",
       "      <td>0</td>\n",
       "      <td>0</td>\n",
       "      <td>0</td>\n",
       "      <td>0</td>\n",
       "    </tr>\n",
       "    <tr>\n",
       "      <th>2</th>\n",
       "      <td>1</td>\n",
       "      <td>1</td>\n",
       "      <td>1</td>\n",
       "      <td>0</td>\n",
       "      <td>0</td>\n",
       "      <td>0</td>\n",
       "      <td>1</td>\n",
       "      <td>-1</td>\n",
       "      <td>-1</td>\n",
       "      <td>0</td>\n",
       "      <td>1</td>\n",
       "      <td>0</td>\n",
       "    </tr>\n",
       "    <tr>\n",
       "      <th>3</th>\n",
       "      <td>1</td>\n",
       "      <td>0</td>\n",
       "      <td>0</td>\n",
       "      <td>-1</td>\n",
       "      <td>1</td>\n",
       "      <td>0</td>\n",
       "      <td>0</td>\n",
       "      <td>0</td>\n",
       "      <td>0</td>\n",
       "      <td>0</td>\n",
       "      <td>0</td>\n",
       "      <td>0</td>\n",
       "    </tr>\n",
       "    <tr>\n",
       "      <th>4</th>\n",
       "      <td>0</td>\n",
       "      <td>0</td>\n",
       "      <td>-1</td>\n",
       "      <td>0</td>\n",
       "      <td>1</td>\n",
       "      <td>0</td>\n",
       "      <td>0</td>\n",
       "      <td>0</td>\n",
       "      <td>0</td>\n",
       "      <td>0</td>\n",
       "      <td>0</td>\n",
       "      <td>0</td>\n",
       "    </tr>\n",
       "  </tbody>\n",
       "</table>\n",
       "</div>"
      ],
      "text/plain": [
       "   Age  RestingBP  Cholesterol  MaxHR  ExerciseAngina  Oldpeak  ST_Slope  \\\n",
       "0    1          0           -1      0               1        1         0   \n",
       "1    0          0           -1      0               1        0         0   \n",
       "2    1          1            1      0               0        0         1   \n",
       "3    1          0            0     -1               1        0         0   \n",
       "4    0          0           -1      0               1        0         0   \n",
       "\n",
       "   HeartDisease  ChestPainType_ASY  ChestPainType_ATA  ChestPainType_NAP  \\\n",
       "0             0                  0                  0                  0   \n",
       "1             0                  0                  0                  0   \n",
       "2            -1                 -1                  0                  1   \n",
       "3             0                  0                  0                  0   \n",
       "4             0                  0                  0                  0   \n",
       "\n",
       "   ChestPainType_TA  \n",
       "0                 0  \n",
       "1                 0  \n",
       "2                 0  \n",
       "3                 0  \n",
       "4                 0  "
      ]
     },
     "execution_count": 33,
     "metadata": {},
     "output_type": "execute_result"
    }
   ],
   "source": [
    "df_DF_encoded_splitTrain_stdScaled.astype('int').head()"
   ]
  },
  {
   "cell_type": "markdown",
   "metadata": {},
   "source": [
    "# Saving dataset"
   ]
  },
  {
   "cell_type": "code",
   "execution_count": 35,
   "metadata": {},
   "outputs": [],
   "source": [
    "train_data = {\n",
    "  # 'df_encoded_splitTrain_stdScaled' : df_encoded_splitTrain_stdScaled,\n",
    "  # 'df_modifiedOutlier_encoded_splitTrain_stdScaled' : df_modifiedOutlier_encoded_splitTrain_stdScaled,\n",
    "  # 'df_deleteOutlier_encoded_splitTrain_stdScaled' : df_deleteOutlier_encoded_splitTrain_stdScaled,\n",
    "  # 'df_DF_encoded_splitTrain_stdScaled' : df_DF_encoded_splitTrain_stdScaled,\n",
    "  # 'df_DF_modifiedOutlier_encoded_splitTrain_stdScaled' : df_DF_modifiedOutlier_encoded_splitTrain_stdScaled,\n",
    "  # 'df_DF_deleteOutlier_encoded_splitTrain_stdScaled' : df_DF_deleteOutlier_encoded_splitTrain_stdScaled,\n",
    "  'df_encoded_splitTrain_minmaxScaled' : df_encoded_splitTrain_minmaxScaled,\n",
    "  'df_modifiedOutlier_encoded_splitTrain_minmaxScaled' : df_modifiedOutlier_encoded_splitTrain_minmaxScaled,\n",
    "  'df_deleteOutlier_encoded_splitTrain_minmaxScaled' : df_deleteOutlier_encoded_splitTrain_minmaxScaled,\n",
    "  'df_DF_encoded_splitTrain_minmaxScaled' : df_DF_encoded_splitTrain_minmaxScaled,\n",
    "  'df_DF_modifiedOutlier_encoded_splitTrain_minmaxScaled' : df_DF_modifiedOutlier_encoded_splitTrain_minmaxScaled,\n",
    "  'df_DF_deleteOutlier_encoded_splitTrain_minmaxScaled' : df_DF_deleteOutlier_encoded_splitTrain_minmaxScaled,\n",
    "  \n",
    "  'df_DF_encoded_splitTrain_stdScaled_rounded' : df_DF_encoded_splitTrain_stdScaled.astype('int'),\n",
    "  \n",
    "  # g di scaling\n",
    "  'df_encoded_splitTrain' : df_encoded_splitTrain,\n",
    "  'df_DF_encoded_splitTrain' : df_DF_encoded_splitTrain,\n",
    "  'df_modifiedOutlier_encoded_splitTrain' : df_modifiedOutlier_encoded_splitTrain,\n",
    "  'df_DF_modifiedOutlier_encoded_splitTrain' : df_DF_modifiedOutlier_encoded_splitTrain,\n",
    "  'df_deleteOutlier_encoded_splitTrain' : df_deleteOutlier_encoded_splitTrain,\n",
    "  'df_DF_deleteOutlier_encoded_splitTrain' : df_DF_deleteOutlier_encoded_splitTrain,\n",
    "}\n",
    "\n",
    "test_data = {\n",
    "  # 'df_encoded_splitTest_stdScaled' : df_encoded_splitTest_stdScaled,\n",
    "  # 'df_modifiedOutlier_encoded_splitTest_stdScaled' : df_modifiedOutlier_encoded_splitTest_stdScaled,\n",
    "  # 'df_deleteOutlier_encoded_splitTest_stdScaled' : df_deleteOutlier_encoded_splitTest_stdScaled,\n",
    "  # 'df_DF_encoded_splitTest_stdScaled' : df_DF_encoded_splitTest_stdScaled,\n",
    "  # 'df_DF_modifiedOutlier_encoded_splitTest_stdScaled' : df_DF_modifiedOutlier_encoded_splitTest_stdScaled,\n",
    "  # 'df_DF_deleteOutlier_encoded_splitTest_stdScaled' : df_DF_deleteOutlier_encoded_splitTest_stdScaled,\n",
    "  'df_encoded_splitTest_minmaxScaled' : df_encoded_splitTest_minmaxScaled,\n",
    "  'df_modifiedOutlier_encoded_splitTest_minmaxScaled' : df_modifiedOutlier_encoded_splitTest_minmaxScaled,\n",
    "  'df_deleteOutlier_encoded_splitTest_minmaxScaled' : df_deleteOutlier_encoded_splitTest_minmaxScaled,\n",
    "  'df_DF_encoded_splitTest_minmaxScaled' : df_DF_encoded_splitTest_minmaxScaled,\n",
    "  'df_DF_modifiedOutlier_encoded_splitTest_minmaxScaled' : df_DF_modifiedOutlier_encoded_splitTest_minmaxScaled,\n",
    "  'df_DF_deleteOutlier_encoded_splitTest_minmaxScaled' : df_DF_deleteOutlier_encoded_splitTest_minmaxScaled,\n",
    "\n",
    "  'df_DF_encoded_splitTest_stdScaled_rounded' : df_DF_encoded_splitTest_stdScaled.astype('int'),\n",
    "  \n",
    "  # g di scaling\n",
    "  'df_encoded_splitTest' : df_encoded_splitTest,\n",
    "  'df_DF_encoded_splitTest' : df_DF_encoded_splitTest,\n",
    "  'df_modifiedOutlier_encoded_splitTest' : df_modifiedOutlier_encoded_splitTest,\n",
    "  'df_DF_modifiedOutlier_encoded_splitTest' : df_DF_modifiedOutlier_encoded_splitTest,\n",
    "  'df_deleteOutlier_encoded_splitTest' : df_deleteOutlier_encoded_splitTest,\n",
    "  'df_DF_deleteOutlier_encoded_splitTest' : df_DF_deleteOutlier_encoded_splitTest,\n",
    "}"
   ]
  },
  {
   "cell_type": "code",
   "execution_count": 37,
   "metadata": {},
   "outputs": [],
   "source": [
    "# save train and test data\n",
    "for key in train_data.keys():\n",
    "  train_data[key].to_csv('./Dataset/' + key + '.csv', index=False)\n",
    "\n",
    "for key in test_data.keys():\n",
    "  test_data[key].to_csv('./Dataset/' + key + '.csv', index=False)\n",
    "\n",
    "\n",
    "  "
   ]
  }
 ],
 "metadata": {
  "interpreter": {
   "hash": "c59bf3eaebc6870ce0abe767d1553422d9a61b1b748d3c217720a44c48c2ce38"
  },
  "kernelspec": {
   "display_name": "Python 3.9.7 ('lrn')",
   "language": "python",
   "name": "python3"
  },
  "language_info": {
   "codemirror_mode": {
    "name": "ipython",
    "version": 3
   },
   "file_extension": ".py",
   "mimetype": "text/x-python",
   "name": "python",
   "nbconvert_exporter": "python",
   "pygments_lexer": "ipython3",
   "version": "3.9.7"
  },
  "orig_nbformat": 4
 },
 "nbformat": 4,
 "nbformat_minor": 2
}
